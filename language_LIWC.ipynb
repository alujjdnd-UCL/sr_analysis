{
 "cells": [
  {
   "attachments": {},
   "cell_type": "markdown",
   "metadata": {},
   "source": [
    "# LIWC Test\n",
    "*(Always to be run as sets up important env)*"
   ]
  },
  {
   "cell_type": "code",
   "execution_count": 7,
   "metadata": {},
   "outputs": [
    {
     "name": "stdout",
     "output_type": "stream",
     "text": [
      "sed: can't read /dictionaries/LIWC07-EN.dic: No such file or directory\n"
     ]
    }
   ],
   "source": [
    "!sed -i -e '/[<(]/d' dictionaries/LIWC07-EN.dic"
   ]
  },
  {
   "cell_type": "code",
   "execution_count": 6,
   "metadata": {},
   "outputs": [],
   "source": [
    "import liwc\n",
    "parse, category_names = liwc.load_token_parser('dictionaries/LIWC07-EN.dic')\n"
   ]
  },
  {
   "cell_type": "code",
   "execution_count": 13,
   "metadata": {},
   "outputs": [
    {
     "name": "stdout",
     "output_type": "stream",
     "text": [
      "Counter({'social': 1, 'funct': 0, 'pronoun': 0, 'ppron': 0, 'i': 0, 'we': 0, 'you': 0, 'shehe': 0, 'they': 0, 'ipron': 0, 'article': 0, 'verb': 0, 'auxverb': 0, 'past': 0, 'present': 0, 'future': 0, 'adverb': 0, 'preps': 0, 'conj': 0, 'negate': 0, 'quant': 0, 'number': 0, 'swear': 0, 'family': 0, 'friend': 0, 'humans': 0, 'affect': 0, 'posemo': 0, 'negemo': 0, 'anx': 0, 'anger': 0, 'sad': 0, 'cogmech': 0, 'insight': 0, 'cause': 0, 'discrep': 0, 'tentat': 0, 'certain': 0, 'inhib': 0, 'incl': 0, 'excl': 0, 'percept': 0, 'see': 0, 'hear': 0, 'feel': 0, 'bio': 0, 'body': 0, 'health': 0, 'sexual': 0, 'ingest': 0, 'relativ': 0, 'motion': 0, 'space': 0, 'time': 0, 'work': 0, 'achieve': 0, 'leisure': 0, 'home': 0, 'money': 0, 'relig': 0, 'death': 0, 'assent': 0, 'nonfl': 0, 'filler': 0})\n"
     ]
    }
   ],
   "source": [
    "import re\n",
    "from collections import Counter\n",
    "\n",
    "def tokenize(text):\n",
    "    # you may want to use a smarter tokenizer\n",
    "    for match in re.finditer(r'\\w+', text, re.UNICODE):\n",
    "        yield match.group(0)\n",
    "\n",
    "def count_categories(text):\n",
    "    # Returns a Counter object containing tallies of all LIWC categories\n",
    "    text = text.lower()\n",
    "    tokens = tokenize(text)\n",
    "    counter = Counter(category for token in tokens for category in parse(token))\n",
    "\n",
    "    # If a category doesn't exist in the text, we need to add it and set the count to 0\n",
    "    for category in category_names:\n",
    "        if category not in counter:\n",
    "            counter[category] = 0\n",
    "\n",
    "    return counter\n",
    "\n",
    "gettysburg = \"Hello\"\n",
    "\n",
    "print(count_categories(gettysburg))\n",
    "#=> Counter({'funct': 58, 'pronoun': 18, 'cogmech': 17, ...})"
   ]
  },
  {
   "attachments": {},
   "cell_type": "markdown",
   "metadata": {},
   "source": [
    "# Text Analysis\n",
    "Go through each entry in the text, and for each entry, add the following information:\n",
    "- The publish utc timestamp of the comment/post\n",
    "- The counter of the dimensions\n",
    "\n",
    "The data structure to be returned will be a pandas dataframe, with the first column being the utc timestamp, and the second column is a counter of the dictionary of LIWC categories\n",
    "\n",
    "E.g.: ```1000 | Counter({'social': 1...})]```\n",
    "\n",
    "Everything will also get saved into a csv file after, first column is the utc timestamp, second column the dict"
   ]
  },
  {
   "cell_type": "code",
   "execution_count": 22,
   "metadata": {},
   "outputs": [],
   "source": [
    "# Set the Reddit Data File Path (JSON)\n",
    "data_file_path = \"data/texas_comments.json\"\n",
    "\n",
    "\n",
    "import tqdm\n",
    "import pandas as pd\n",
    "import json\n",
    "import os\n",
    "\n",
    "df = pd.DataFrame(columns = ['utc_timestamp', 'LIWC_categories'])\n",
    "\n",
    "# Intialise the progress bar based on the number of items in the data file\n",
    "with open(data_file_path) as f:\n",
    "    num_lines = sum(1 for line in f)\n",
    "\n",
    "pbar = tqdm.tqdm(total=num_lines)\n",
    "\n",
    "# Read the data file and append the utc_timestamp and LIWC categories to the dataframe\n",
    "with open(data_file_path) as f:\n",
    "    for line in f:\n",
    "        data = json.loads(line)\n",
    "        df = pd.concat([df, pd.DataFrame([[data['created_utc'], count_categories(data['body'])]], columns = ['utc_timestamp', 'LIWC_categories'])])\n",
    "        pbar.update(1)\n",
    "\n",
    "# Close the progress bar\n",
    "pbar.close()\n",
    "\n",
    "# Save the dataframe to a CSV file\n",
    "df.to_csv(f'text_liwc_dimensions/{os.path.basename(data_file_path[:-5])}_LIWC.csv', index=False)\n",
    "\n",
    "df.head()\n"
   ]
  }
 ],
 "metadata": {
  "kernelspec": {
   "display_name": "Python 3",
   "language": "python",
   "name": "python3"
  },
  "language_info": {
   "codemirror_mode": {
    "name": "ipython",
    "version": 3
   },
   "file_extension": ".py",
   "mimetype": "text/x-python",
   "name": "python",
   "nbconvert_exporter": "python",
   "pygments_lexer": "ipython3",
   "version": "3.11.0a4"
  },
  "orig_nbformat": 4
 },
 "nbformat": 4,
 "nbformat_minor": 2
}
