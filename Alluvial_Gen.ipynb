{
 "cells": [
  {
   "cell_type": "markdown",
   "id": "c73cf887",
   "metadata": {},
   "source": [
    "# Define Functions"
   ]
  },
  {
   "cell_type": "code",
   "execution_count": 8,
   "id": "fb3d1003",
   "metadata": {},
   "outputs": [
    {
     "name": "stdout",
     "output_type": "stream",
     "text": [
      "Python version\n",
      "3.11.0a4 (main, Jun 15 2023, 12:03:09) [GCC 4.8.5 20150623 (Red Hat 4.8.5-44)]\n",
      "Version info.\n",
      "sys.version_info(major=3, minor=11, micro=0, releaselevel='alpha', serial=4)\n"
     ]
    }
   ],
   "source": [
    "import sys\n",
    "print(\"Python version\")\n",
    "print (sys.version)\n",
    "print(\"Version info.\")\n",
    "print (sys.version_info)"
   ]
  },
  {
   "cell_type": "code",
   "execution_count": 9,
   "id": "d1c8a7a5",
   "metadata": {},
   "outputs": [],
   "source": [
    "import os\n",
    "import json\n",
    "import pandas as pd\n",
    "import matplotlib.pyplot as plt\n",
    "import matplotlib.dates as mdates\n",
    "import numpy as np\n",
    "import tqdm\n",
    "from collections import Counter\n",
    "import datetime\n",
    "import time\n",
    "\n",
    "# Some Important Notes on the Code:\n",
    "# 1. The code assumes that the JSON files are in the data directory\n",
    "# 2. The code will only calculate numiles for users wth at least 1 submission\n",
    "# 3. The code will only calculate numiles for users who have submitted after January 1, 2019\n",
    "# 4. The code will calculate numiles inclusive of both upper and lower boundaries in terms of activity count\n",
    "\n",
    "# Some Notes to Self\n",
    "# 1. Pallete of colours for progress bar: https://coolors.co/e4fde1-8acb88-648381-575761-ffbf46\n",
    "\n",
    "\n",
    "\n",
    "# Path to the directory containing JSON files\n",
    "directory = \"data\"\n",
    "\n",
    "def get_user_activity(file_path):\n",
    "\n",
    "    # Initialize dictionary to store author submissions\n",
    "    author_submissions = {}\n",
    "\n",
    "    # Read JSON file\n",
    "    with open(file_path) as file:\n",
    "        entries = file.readlines()\n",
    "\n",
    "    # Initialize progress bar based on JSON lines\n",
    "    progress_bar = tqdm.tqdm(total=len(entries), colour=\"BLUE\")\n",
    "\n",
    "    # Give progress bar a description\n",
    "    progress_bar.set_description(\"Get User Activity Subprocess - Loading Data\")\n",
    "\n",
    "    # Process each entry in the JSON file\n",
    "    for entry in entries:\n",
    "        try:\n",
    "            data = json.loads(entry)\n",
    "\n",
    "            # Filter entries based on created_utc and author conditions\n",
    "            if (\n",
    "                \"author\" in data\n",
    "                and \"created_utc\" in data\n",
    "                and data[\"author\"] != \"[deleted]\"\n",
    "                and data[\"author\"] != \"AutoModerator\"\n",
    "                and int(data[\"created_utc\"]) > 1546300801\n",
    "            ):\n",
    "                author = data[\"author\"]\n",
    "\n",
    "                # Increment author's submission count\n",
    "                if author in author_submissions:\n",
    "                    author_submissions[author] += 1\n",
    "                else:\n",
    "                    author_submissions[author] = 1\n",
    "\n",
    "            # Update progress bar\n",
    "            progress_bar.update(1)\n",
    "\n",
    "        except json.JSONDecodeError:\n",
    "            print(\"Error decoding JSON entry:\", entry)\n",
    "            continue\n",
    "\n",
    "    # Close progress bar\n",
    "    progress_bar.close()\n",
    "\n",
    "    # Convert author submissions dictionary to a DataFrame\n",
    "    df = pd.DataFrame(list(author_submissions.items()), columns=[\"Author\", \"Submissions\"])\n",
    "\n",
    "    # Success message\n",
    "    print(\"Get User Activity Subprocess - Data Loaded\")\n",
    "\n",
    "    return df\n",
    "\n",
    "    # Initialize Counter object to store author submissions\n",
    "    author_submissions = Counter()\n",
    "\n",
    "    # Initiate progress bar based on JSON lines\n",
    "    with open(file_path) as file:\n",
    "        lines = sum(1 for line in file)\n",
    "    progress_bar = tqdm.tqdm(total=lines)\n",
    "\n",
    "    # Give progress bar a description\n",
    "    progress_bar.set_description(\"Get User Activity Subprocess (Optimised) - Loading Data\")\n",
    "\n",
    "    # Process each entry in the JSON file\n",
    "    with open(file_path) as file:\n",
    "        for line in file:\n",
    "            try:\n",
    "                data = json.loads(line)\n",
    "\n",
    "                # Filter entries based on created_utc and author conditions\n",
    "                if (\n",
    "                    \"author\" in data\n",
    "                    and \"created_utc\" in data\n",
    "                    and data[\"author\"] != \"[deleted]\"\n",
    "                    and data[\"author\"] != \"AutoModerator\"\n",
    "                    and int(data[\"created_utc\"]) > 1546300801\n",
    "                ):\n",
    "                    author = data[\"author\"]\n",
    "\n",
    "                    # Increment author's submission count\n",
    "                    author_submissions[author] += 1\n",
    "\n",
    "                # Update progress bar\n",
    "                progress_bar.update(1)\n",
    "\n",
    "            except json.JSONDecodeError:\n",
    "                print(\"Error decoding JSON entry:\", line)\n",
    "                continue\n",
    "\n",
    "    # Close progress bar\n",
    "    progress_bar.close()\n",
    "\n",
    "    # Convert author submissions Counter object to a DataFrame\n",
    "    df = pd.DataFrame.from_dict(author_submissions, orient='index', columns=[\"Submissions\"])\n",
    "    df.index.name = \"Author\"\n",
    "\n",
    "    # Success message\n",
    "    print(\"Get User Activity Subprocess - Data Loaded\")\n",
    "\n",
    "    return df\n",
    "\n",
    "\n",
    "def calc_numiles(df, num_numiles):\n",
    "    # Numiles, returns a list of numile boundaries\n",
    "\n",
    "    # Array of submission counts, sorted\n",
    "    activity_counts = df[\"Submissions\"].value_counts().sort_index()\n",
    "\n",
    "    # Use pandas to calculate the num_numiles numiles\n",
    "    # deciles = activity_counts.quantile(np.linspace(0, 1, num_numiles + 1))\n",
    "    deciles = np.percentile(activity_counts, range(0, 101, 100//num_numiles))\n",
    "\n",
    "    # Success message\n",
    "    print(\"Calc Numiles Subprocess - Numiles Calculated\")\n",
    "    \n",
    "    return deciles.tolist()\n",
    "\n",
    "\n",
    "def get_numiles(file_path, num_numiles):\n",
    "    df = get_user_activity(file_path)\n",
    "    numiles = calc_numiles(df, num_numiles)\n",
    "\n",
    "    # Success message\n",
    "    print(\"Get Numiles Subprocess - Numiles Calculated\")\n",
    "\n",
    "    return numiles\n",
    "\n",
    "\n",
    "def partition_users(df, numiles):\n",
    "\n",
    "    \"\"\"\n",
    "    Partition users into numiles based on their activity count\n",
    "    The code will update partition_info.txt with the number of users in each numile and their boundaries, \n",
    "    (NOT ENABLED DUE TO OPTIMISATION) and partition.txt with the partition dictionary\n",
    "    \"\"\"\n",
    "\n",
    "    # Returns a dictionary of lists of the form {numile: [user1, user2, ...]}\n",
    "    partition = {}\n",
    "    for i in range(len(numiles) - 1):\n",
    "        partition[i] = df[(df[\"Submissions\"] >= numiles[i]) & (df[\"Submissions\"] <= numiles[i + 1])][\"Author\"].tolist()\n",
    "\n",
    "    # # Save Partition to partition.txt\n",
    "    # with open(\"output/partition.txt\", \"w\") as file:\n",
    "    #     file.write(str(partition))\n",
    "\n",
    "    # Save the number of users in each numile and their boundaries to partition_info.txt\n",
    "    if not os.path.exists(\"output\"):\n",
    "        os.makedirs(\"output\")\n",
    "\n",
    "    with open(\"output/partition_info.txt\", \"w\") as file:\n",
    "        file.write(\"Numile\\tLower Boundary\\tUpper Boundary\\tNumber of Users\\n\")\n",
    "        for i in range(len(numiles) - 1):\n",
    "            file.write(\n",
    "                str(i)\n",
    "                + \"\\t\"\n",
    "                + str(numiles[i])\n",
    "                + \"\\t\"\n",
    "                + str(numiles[i + 1])\n",
    "                + \"\\t\"\n",
    "                + str(len(partition[i]))\n",
    "                + \"\\n\"\n",
    "            )\n",
    "\n",
    "    # Success message\n",
    "    print(\"Partition Users Subprocess - Users Partitioned\")\n",
    "\n",
    "    return partition\n",
    "\n",
    "\n",
    "def bucketed_post_timeline(file_path, time_interval, end_time=1677628801):\n",
    "    with open(file_path, 'r') as file:\n",
    "        json_data = file.readlines()\n",
    "\n",
    "    # Initialise progress bar\n",
    "    progress_bar = tqdm.tqdm(total=len(json_data), colour='#648381')\n",
    "\n",
    "    # Add descriptive text to progress bar\n",
    "    progress_bar.set_description(\"Bucket Subprocess - Loading Data\")\n",
    "\n",
    "    data = []\n",
    "    for line in json_data:\n",
    "        json_object = json.loads(line)\n",
    "        author = json_object.get('author')\n",
    "        created_utc = int(json_object.get('created_utc'))\n",
    "\n",
    "        if (\n",
    "                author != \"[deleted]\"\n",
    "                and author != \"AutoModerator\"\n",
    "                and created_utc > 1546300801\n",
    "                and created_utc < 1677628801\n",
    "            ):\n",
    "            data.append({'author': author, 'created_utc': created_utc})\n",
    "        \n",
    "        progress_bar.update(1)\n",
    "\n",
    "    # Close progress bar\n",
    "    progress_bar.close()\n",
    "\n",
    "    print(\"Bucket Subprocess - Data Loaded\")\n",
    "\n",
    "    # Create a DataFrame full of zeroes with each unique user as a row and each time period as a column, \n",
    "    # starting from 1546300801 (January 1, 2019) and ending at 1677628801 (March 1, 2023) by defualt (or end_time param) \n",
    "    # with intervals of time_interval seconds\n",
    "    df = pd.DataFrame(0, index=np.unique([row['author'] for row in data]), columns=range((1546300801 // time_interval * time_interval), (((end_time // time_interval) + 1) * time_interval), time_interval))\n",
    "\n",
    "\n",
    "    #Fill the DataFrame with zeroes\n",
    "    df = df.fillna(0)\n",
    "    \n",
    "    # Ensure that the author columns are unique\n",
    "    assert df.index.is_unique\n",
    "\n",
    "    # Initiate progress bar\n",
    "    progress_bar = tqdm.tqdm(total=len(data), colour='#8acb88')\n",
    "\n",
    "    # Add a description to the progress bar\n",
    "    progress_bar.set_description(\"Bucket Subprocess - Bucketing Data\")\n",
    "\n",
    "    # Iterate over each row in data and increment the corresponding cell in df\n",
    "    for row in data:\n",
    "        # Sort the \"bucket\" that the created_utc falls into\n",
    "        bucket = (row['created_utc'] // time_interval) * time_interval\n",
    "        # print(f\"Author: {row['author']}, Created UTC: {row['created_utc']}, Bucket: {bucket}\")\n",
    "        df.at[row['author'], bucket] += 1\n",
    "        progress_bar.update(1)\n",
    "\n",
    "    progress_bar.close()\n",
    "\n",
    "    # Success message\n",
    "    print(\"Bucket Subprocess - Data Bucketed\")\n",
    "\n",
    "    return df\n",
    "\n",
    "\n",
    "def plot_numile_contributions(file_path, time_interval, num_numiles, chosen_numile_range_lower, chosen_numile_range_upper):\n",
    "\n",
    "    \"\"\"\n",
    "    params:\n",
    "        file_path: path to the file containing the data\n",
    "        time_interval: the time interval in seconds to bucket the data by\n",
    "        num_numiles: the number of numiles to partition the data into\n",
    "        chosen_numile_range_lower: the lower bound of the numile range to plot\n",
    "        chosen_numile_range_upper: the upper bound of the numile range to plot\n",
    "\n",
    "    !! NOTE: The bounds are inclusive !!\n",
    "\n",
    "    The code will update output/partition_info.txt with the number of users in each numile and their boundaries, \n",
    "    (NOT ENABLED DUE TO OPTIMISATION) and output/partition.txt with the partition dictionary\n",
    "    The code will also update output/plot_summary_stat.tsv with the summary statistics for the particular numile chosen\n",
    "    \"\"\"\n",
    "\n",
    "    start = time.time()\n",
    "\n",
    "    df_bucketed_posts = bucketed_post_timeline(file_path, time_interval)\n",
    "\n",
    "    df_user_activity = get_user_activity(file_path)\n",
    "\n",
    "    numile_users_dict = partition_users(df_user_activity, calc_numiles(df_user_activity, num_numiles))\n",
    "\n",
    "    # Get all users in the chosen numile range\n",
    "    numile_users_list = []\n",
    "    for i in range(chosen_numile_range_lower, chosen_numile_range_upper + 1):\n",
    "        numile_users_list.extend(numile_users_dict[i])\n",
    "    \n",
    "\n",
    "    # Filter DataFrame to only include users in the chosen numile\n",
    "    df_in_numile = df_bucketed_posts[df_bucketed_posts.index.isin(numile_users_list)]\n",
    "    print(\"Plot Numile Contributions Subprocess - Data Filtered\")\n",
    "\n",
    "\n",
    "    ##### ------ SUMMARY STATISTICS ------ #####\n",
    "\n",
    "    # A dictionary of the form {utc_timestamp: [minimum, 25th percentile, median, 75th percentile, maximum]} for that time period only\n",
    "    summary_data = {}\n",
    "\n",
    "    # Iterate over each time period\n",
    "    for column in df_in_numile:\n",
    "        # Get the minimum, 25th percentile, median, 75th percentile, and maximum number of posts in that time period\n",
    "        summary_data[column] = df_in_numile[column].describe()[[0, 1, 2, 3, 4, 5, 6, 7]].tolist()\n",
    "    print(\"Plot Numile Contributions Subprocess - Data Described\")\n",
    "\n",
    "    # Convert data to a DataFrame, with each row representing a time period and each column representing a statistic\n",
    "    data_summary_statistics = pd.DataFrame.from_dict(summary_data, orient='index', columns=['count', 'mean', 'std_dev','min', '25%', '50%', '75%', 'max'])\n",
    "    print(\"Plot Numile Contributions Subprocess - Data Converted to DataFrame\")\n",
    "\n",
    "    # Save data_to_plot_df to a TSV file with the summary statistics for each time period\n",
    "    data_summary_statistics.to_csv(f\"output/plot_summary_stat.tsv\", sep=\"\\t\")\n",
    "\n",
    "\n",
    "    ##### ------ PLOT DATA GEN ------ #####\n",
    "\n",
    "    # A dictionary of the form {utc_timestamp: [datapoint1, datapoint2, ...]} for that time period only\n",
    "    plot_data = {}\n",
    "\n",
    "    # Iterate over each time period\n",
    "    for column in df_in_numile:\n",
    "        # Get the number of posts in that time period\n",
    "        plot_data[column] = df_in_numile[column].tolist()\n",
    "    print(\"Plot Numile Contributions Subprocess - Data Converted to Dictionary\")\n",
    "\n",
    "    # Save plot_data to a TSV file\n",
    "    with open(f\"output/plot_data.tsv\", 'w') as f:\n",
    "        for key in plot_data.keys():\n",
    "            f.write(f\"{key}\\t{plot_data[key]}\\n\")\n",
    "\n",
    "\n",
    "    ##### ------ PLOT ------ #####\n",
    "\n",
    "    # Create a new figure with a single subplot\n",
    "    fig, ax = plt.subplots()\n",
    "\n",
    "    # Extract the utc_timestamps and datapoints from the dictionary\n",
    "    utc_timestamps = list(plot_data.keys())\n",
    "    datapoints = list(plot_data.values())\n",
    "\n",
    "    # Omit Zeroes\n",
    "    datapoints = [[x for x in y if x != 0] for y in datapoints]\n",
    "\n",
    "    # Plot the box plot\n",
    "    ax.boxplot(datapoints, showfliers=False)\n",
    "\n",
    "    # Set the x-axis labels to the utc_timestamps in year-month-day format\n",
    "    ax.set_xticks(range(1, len(utc_timestamps) + 1))\n",
    "    ax.set_xticklabels([datetime.datetime.utcfromtimestamp(x).strftime('%Y-%m-%d') for x in utc_timestamps], rotation=90)\n",
    "\n",
    "    # Set labels and title\n",
    "    ax.set_xlabel('Interval Start Date')\n",
    "    ax.set_ylabel('Submissions/Comments per User')\n",
    "    ax.set_title(f'Box Plot of Userly Submissions/Comments \\nOver UTC Timestamps for Numiles {chosen_numile_range_lower} to {chosen_numile_range_upper} out of {num_numiles} Numiles')\n",
    "\n",
    "    # Add subtitle with the numile interval, time interval, and count of users in the chosen numile range\n",
    "    ax.text(0.5, 0.90, f\"File Path: {file_path}\\nNumile Interval (inclusive): {chosen_numile_range_lower} to {chosen_numile_range_upper} out of {num_numiles} Numiles\\nTime Interval: {time_interval / 2592000} month(s)\\nNumber of Users: {len(numile_users_list)}\", horizontalalignment='center', verticalalignment='center', transform=ax.transAxes)\n",
    "\n",
    "    # Add margin to the figure\n",
    "    fig.subplots_adjust(left=0.1, right=0.9, bottom=0.2, top=0.9)\n",
    "\n",
    "    # Set the plot size\n",
    "    fig.set_size_inches(15, 7)\n",
    "\n",
    "    # Create the figures directory if it does not exist\n",
    "    if not os.path.exists(\"figures\"):\n",
    "        os.makedirs(\"figures\")\n",
    "\n",
    "    fig.savefig(f\"figures/box_plot_numile_{chosen_numile_range_lower}_{chosen_numile_range_upper}_{time_interval}.png\")\n",
    "\n",
    "    end = time.time()\n",
    "    print(f\"Plot Total Time Taken: {end - start} seconds\")\n",
    "\n",
    "\n",
    "def plot_bounded(file_path, time_interval, lower_bound, upper_bound, start_date=1546300801, end_date=1677628801):\n",
    "\n",
    "    start = time.time()\n",
    "\n",
    "    # Print the file name being processed\n",
    "    print(f\"Starting on {os.path.basename(file_path[:-5])}\")\n",
    "\n",
    "    df_bucketed_posts = bucketed_post_timeline(file_path, time_interval)\n",
    "\n",
    "    # Initiate a progress bar\n",
    "    pbar = tqdm.tqdm(total=len(df_bucketed_posts.index), colour='#E4FDE1', desc='Plot Bounded Subprocess - Calculating Total Posts per User')\n",
    "\n",
    "    # Get a dictionary of total number of posts per user within the start and end date in the form {user: total_posts}\n",
    "    user_posts_dict = {}\n",
    "    for i in range(len(df_bucketed_posts.index)):\n",
    "        user_posts_dict[df_bucketed_posts.index[i]] = df_bucketed_posts.iloc[i].sum()\n",
    "        pbar.update(1)\n",
    "    pbar.close()\n",
    "\n",
    "    # Get the list of users between the bounds\n",
    "    bounded_user_list = [user for user in user_posts_dict.keys() if lower_bound <= user_posts_dict[user] <= upper_bound]\n",
    "\n",
    "    # Filter DataFrame to only include users in the chosen numile\n",
    "    df_in_bounds = df_bucketed_posts[df_bucketed_posts.index.isin(bounded_user_list)]\n",
    "    print(\"Plot Bounded Subprocess - Data Filtered\")\n",
    "\n",
    "    ##### ------ SUMMARY STATISTICS ------ #####\n",
    "\n",
    "    # A dictionary of the form {utc_timestamp: [minimum, 25th percentile, median, 75th percentile, maximum]} for that time period only\n",
    "    summary_data = {}\n",
    "\n",
    "    # Iterate over each time period\n",
    "    for column in df_in_bounds:\n",
    "        # Get the minimum, 25th percentile, median, 75th percentile, and maximum number of posts in that time period\n",
    "        summary_data[column] = df_in_bounds[column].describe()[[0, 1, 2, 3, 4, 5, 6, 7]].tolist()\n",
    "    print(\"Plot Bounded Subprocess - Data Described\")\n",
    "\n",
    "    # Convert data to a DataFrame, with each row representing a time period and each column representing a statistic\n",
    "    data_summary_statistics = pd.DataFrame.from_dict(summary_data, orient='index', columns=['count', 'mean', 'std_dev','min', '25%', '50%', '75%', 'max'])\n",
    "    print(\"Plot Bounded Subprocess - Data Converted to DataFrame\")\n",
    "\n",
    "    # Save data_to_plot_df to a TSV file with the summary statistics for each time period\n",
    "    data_summary_statistics.to_csv(f\"output/plot_bounded_summary_stat.tsv\", sep=\"\\t\")\n",
    "\n",
    "\n",
    "    ##### ------ PLOT DATA GEN ------ #####\n",
    "\n",
    "    # A dictionary of the form {utc_timestamp: [datapoint1, datapoint2, ...]} for that time period only\n",
    "    plot_data = {}\n",
    "\n",
    "    # Iterate over each time period\n",
    "    for column in df_in_bounds:\n",
    "        # Get the number of posts in that time period\n",
    "        plot_data[column] = df_in_bounds[column].tolist()\n",
    "    print(\"Plot Bounded Subprocess - Data Converted to Dictionary\")\n",
    "\n",
    "    # Save plot_data to a TSV file\n",
    "    with open(f\"output/plot_data.tsv\", 'w') as f:\n",
    "        for key in plot_data.keys():\n",
    "            f.write(f\"{key}\\t{plot_data[key]}\\n\")\n",
    "\n",
    "\n",
    "    ##### ------ PLOT ------ #####\n",
    "\n",
    "    # Create a new figure with a single subplot\n",
    "    fig, ax = plt.subplots()\n",
    "\n",
    "    # Extract the utc_timestamps and datapoints from the dictionary\n",
    "    utc_timestamps = list(plot_data.keys())\n",
    "    datapoints = list(plot_data.values())\n",
    "\n",
    "    # Omit Zeroes\n",
    "    datapoints = [[x for x in y if x != 0] for y in datapoints]\n",
    "\n",
    "    # Plot the box plot\n",
    "    ax.boxplot(datapoints, showfliers=False)\n",
    "\n",
    "    # Set the x-axis labels to the utc_timestamps in year-month-day format\n",
    "    ax.set_xticks(range(1, len(utc_timestamps) + 1))\n",
    "    ax.set_xticklabels([datetime.datetime.utcfromtimestamp(x).strftime('%Y-%m-%d') for x in utc_timestamps], rotation=90)\n",
    "\n",
    "    # Set labels and title\n",
    "    ax.set_xlabel('Interval Start Date')\n",
    "    ax.set_ylabel('Submissions/Comments per User')\n",
    "    ax.set_title(f'Box Plot of Userly Submissions/Comments \\nOver UTC Timestamps for Bounds {lower_bound} to {upper_bound} \\nFrom {pd.to_datetime(start_date, unit=\"s\").strftime(\"%Y-%m-%d\")} to {pd.to_datetime(end_date, unit=\"s\").strftime(\"%Y-%m-%d\")}')\n",
    "\n",
    "    # Add subtitle with the bound interval, time interval integer in human readable format, count of users in the chosen bound range, and the lower and upper time integers in UTC timestamp bounds in human readable format using pandas to_datetime\n",
    "    ax.text(0.8, 1.15, f\"Bound Interval: {lower_bound} to {upper_bound} \\nTime Interval: {time_interval / 2592000} month(s) \\nNumber of Users in Bound: {len(bounded_user_list)} \\nStart Date: {pd.to_datetime(start_date, unit='s').strftime('%Y-%m-%d')} \\nEnd Date: {pd.to_datetime(end_date, unit='s').strftime('%Y-%m-%d')}\", horizontalalignment='center', verticalalignment='center', transform=ax.transAxes)\n",
    "\n",
    "    # Add margin to the figure\n",
    "    fig.subplots_adjust(left=0.1, right=0.9, bottom=0.2, top=0.8)\n",
    "\n",
    "    # Set the plot size\n",
    "    fig.set_size_inches(15, 9)\n",
    "\n",
    "    # Create the figures directory if it does not exist\n",
    "    if not os.path.exists(\"figures\"):\n",
    "        os.makedirs(\"figures\")\n",
    "\n",
    "    # Save the figure with the name of the processed JSON file and lower upper bounds\n",
    "    fig.savefig(f\"figures/box_plot_bounds_{lower_bound}_{upper_bound}_{os.path.basename(file_path[:-5])}.png\", dpi=300)\n",
    "\n",
    "    #fig.savefig(f\"figures/box_plot_bounds_{lower_bound}_{upper_bound}.png\", dpi=300)\n",
    "\n",
    "    end = time.time()\n",
    "    print(f\"Plot Bounded Total Time Taken: {end - start} seconds\")\n",
    "    \n"
   ]
  },
  {
   "cell_type": "markdown",
   "id": "b6a7183f",
   "metadata": {},
   "source": [
    "# Plotly Test"
   ]
  },
  {
   "cell_type": "code",
   "execution_count": 10,
   "id": "bba66aec",
   "metadata": {},
   "outputs": [
    {
     "data": {
      "application/vnd.plotly.v1+json": {
       "config": {
        "plotlyServerURL": "https://plot.ly"
       },
       "data": [
        {
         "link": {
          "source": [
           0,
           1,
           0,
           2,
           3,
           3
          ],
          "target": [
           2,
           3,
           3,
           4,
           4,
           5
          ],
          "value": [
           8,
           4,
           2,
           8,
           4,
           2
          ]
         },
         "node": {
          "color": "cyan",
          "label": [
           "A1",
           "A2",
           "B1",
           "B2",
           "C1",
           "C2"
          ],
          "line": {
           "color": "black",
           "width": 1.5
          },
          "pad": 15,
          "thickness": 20
         },
         "type": "sankey"
        }
       ],
       "layout": {
        "font": {
         "size": 10
        },
        "template": {
         "data": {
          "bar": [
           {
            "error_x": {
             "color": "#2a3f5f"
            },
            "error_y": {
             "color": "#2a3f5f"
            },
            "marker": {
             "line": {
              "color": "#E5ECF6",
              "width": 0.5
             },
             "pattern": {
              "fillmode": "overlay",
              "size": 10,
              "solidity": 0.2
             }
            },
            "type": "bar"
           }
          ],
          "barpolar": [
           {
            "marker": {
             "line": {
              "color": "#E5ECF6",
              "width": 0.5
             },
             "pattern": {
              "fillmode": "overlay",
              "size": 10,
              "solidity": 0.2
             }
            },
            "type": "barpolar"
           }
          ],
          "carpet": [
           {
            "aaxis": {
             "endlinecolor": "#2a3f5f",
             "gridcolor": "white",
             "linecolor": "white",
             "minorgridcolor": "white",
             "startlinecolor": "#2a3f5f"
            },
            "baxis": {
             "endlinecolor": "#2a3f5f",
             "gridcolor": "white",
             "linecolor": "white",
             "minorgridcolor": "white",
             "startlinecolor": "#2a3f5f"
            },
            "type": "carpet"
           }
          ],
          "choropleth": [
           {
            "colorbar": {
             "outlinewidth": 0,
             "ticks": ""
            },
            "type": "choropleth"
           }
          ],
          "contour": [
           {
            "colorbar": {
             "outlinewidth": 0,
             "ticks": ""
            },
            "colorscale": [
             [
              0,
              "#0d0887"
             ],
             [
              0.1111111111111111,
              "#46039f"
             ],
             [
              0.2222222222222222,
              "#7201a8"
             ],
             [
              0.3333333333333333,
              "#9c179e"
             ],
             [
              0.4444444444444444,
              "#bd3786"
             ],
             [
              0.5555555555555556,
              "#d8576b"
             ],
             [
              0.6666666666666666,
              "#ed7953"
             ],
             [
              0.7777777777777778,
              "#fb9f3a"
             ],
             [
              0.8888888888888888,
              "#fdca26"
             ],
             [
              1,
              "#f0f921"
             ]
            ],
            "type": "contour"
           }
          ],
          "contourcarpet": [
           {
            "colorbar": {
             "outlinewidth": 0,
             "ticks": ""
            },
            "type": "contourcarpet"
           }
          ],
          "heatmap": [
           {
            "colorbar": {
             "outlinewidth": 0,
             "ticks": ""
            },
            "colorscale": [
             [
              0,
              "#0d0887"
             ],
             [
              0.1111111111111111,
              "#46039f"
             ],
             [
              0.2222222222222222,
              "#7201a8"
             ],
             [
              0.3333333333333333,
              "#9c179e"
             ],
             [
              0.4444444444444444,
              "#bd3786"
             ],
             [
              0.5555555555555556,
              "#d8576b"
             ],
             [
              0.6666666666666666,
              "#ed7953"
             ],
             [
              0.7777777777777778,
              "#fb9f3a"
             ],
             [
              0.8888888888888888,
              "#fdca26"
             ],
             [
              1,
              "#f0f921"
             ]
            ],
            "type": "heatmap"
           }
          ],
          "heatmapgl": [
           {
            "colorbar": {
             "outlinewidth": 0,
             "ticks": ""
            },
            "colorscale": [
             [
              0,
              "#0d0887"
             ],
             [
              0.1111111111111111,
              "#46039f"
             ],
             [
              0.2222222222222222,
              "#7201a8"
             ],
             [
              0.3333333333333333,
              "#9c179e"
             ],
             [
              0.4444444444444444,
              "#bd3786"
             ],
             [
              0.5555555555555556,
              "#d8576b"
             ],
             [
              0.6666666666666666,
              "#ed7953"
             ],
             [
              0.7777777777777778,
              "#fb9f3a"
             ],
             [
              0.8888888888888888,
              "#fdca26"
             ],
             [
              1,
              "#f0f921"
             ]
            ],
            "type": "heatmapgl"
           }
          ],
          "histogram": [
           {
            "marker": {
             "pattern": {
              "fillmode": "overlay",
              "size": 10,
              "solidity": 0.2
             }
            },
            "type": "histogram"
           }
          ],
          "histogram2d": [
           {
            "colorbar": {
             "outlinewidth": 0,
             "ticks": ""
            },
            "colorscale": [
             [
              0,
              "#0d0887"
             ],
             [
              0.1111111111111111,
              "#46039f"
             ],
             [
              0.2222222222222222,
              "#7201a8"
             ],
             [
              0.3333333333333333,
              "#9c179e"
             ],
             [
              0.4444444444444444,
              "#bd3786"
             ],
             [
              0.5555555555555556,
              "#d8576b"
             ],
             [
              0.6666666666666666,
              "#ed7953"
             ],
             [
              0.7777777777777778,
              "#fb9f3a"
             ],
             [
              0.8888888888888888,
              "#fdca26"
             ],
             [
              1,
              "#f0f921"
             ]
            ],
            "type": "histogram2d"
           }
          ],
          "histogram2dcontour": [
           {
            "colorbar": {
             "outlinewidth": 0,
             "ticks": ""
            },
            "colorscale": [
             [
              0,
              "#0d0887"
             ],
             [
              0.1111111111111111,
              "#46039f"
             ],
             [
              0.2222222222222222,
              "#7201a8"
             ],
             [
              0.3333333333333333,
              "#9c179e"
             ],
             [
              0.4444444444444444,
              "#bd3786"
             ],
             [
              0.5555555555555556,
              "#d8576b"
             ],
             [
              0.6666666666666666,
              "#ed7953"
             ],
             [
              0.7777777777777778,
              "#fb9f3a"
             ],
             [
              0.8888888888888888,
              "#fdca26"
             ],
             [
              1,
              "#f0f921"
             ]
            ],
            "type": "histogram2dcontour"
           }
          ],
          "mesh3d": [
           {
            "colorbar": {
             "outlinewidth": 0,
             "ticks": ""
            },
            "type": "mesh3d"
           }
          ],
          "parcoords": [
           {
            "line": {
             "colorbar": {
              "outlinewidth": 0,
              "ticks": ""
             }
            },
            "type": "parcoords"
           }
          ],
          "pie": [
           {
            "automargin": true,
            "type": "pie"
           }
          ],
          "scatter": [
           {
            "fillpattern": {
             "fillmode": "overlay",
             "size": 10,
             "solidity": 0.2
            },
            "type": "scatter"
           }
          ],
          "scatter3d": [
           {
            "line": {
             "colorbar": {
              "outlinewidth": 0,
              "ticks": ""
             }
            },
            "marker": {
             "colorbar": {
              "outlinewidth": 0,
              "ticks": ""
             }
            },
            "type": "scatter3d"
           }
          ],
          "scattercarpet": [
           {
            "marker": {
             "colorbar": {
              "outlinewidth": 0,
              "ticks": ""
             }
            },
            "type": "scattercarpet"
           }
          ],
          "scattergeo": [
           {
            "marker": {
             "colorbar": {
              "outlinewidth": 0,
              "ticks": ""
             }
            },
            "type": "scattergeo"
           }
          ],
          "scattergl": [
           {
            "marker": {
             "colorbar": {
              "outlinewidth": 0,
              "ticks": ""
             }
            },
            "type": "scattergl"
           }
          ],
          "scattermapbox": [
           {
            "marker": {
             "colorbar": {
              "outlinewidth": 0,
              "ticks": ""
             }
            },
            "type": "scattermapbox"
           }
          ],
          "scatterpolar": [
           {
            "marker": {
             "colorbar": {
              "outlinewidth": 0,
              "ticks": ""
             }
            },
            "type": "scatterpolar"
           }
          ],
          "scatterpolargl": [
           {
            "marker": {
             "colorbar": {
              "outlinewidth": 0,
              "ticks": ""
             }
            },
            "type": "scatterpolargl"
           }
          ],
          "scatterternary": [
           {
            "marker": {
             "colorbar": {
              "outlinewidth": 0,
              "ticks": ""
             }
            },
            "type": "scatterternary"
           }
          ],
          "surface": [
           {
            "colorbar": {
             "outlinewidth": 0,
             "ticks": ""
            },
            "colorscale": [
             [
              0,
              "#0d0887"
             ],
             [
              0.1111111111111111,
              "#46039f"
             ],
             [
              0.2222222222222222,
              "#7201a8"
             ],
             [
              0.3333333333333333,
              "#9c179e"
             ],
             [
              0.4444444444444444,
              "#bd3786"
             ],
             [
              0.5555555555555556,
              "#d8576b"
             ],
             [
              0.6666666666666666,
              "#ed7953"
             ],
             [
              0.7777777777777778,
              "#fb9f3a"
             ],
             [
              0.8888888888888888,
              "#fdca26"
             ],
             [
              1,
              "#f0f921"
             ]
            ],
            "type": "surface"
           }
          ],
          "table": [
           {
            "cells": {
             "fill": {
              "color": "#EBF0F8"
             },
             "line": {
              "color": "white"
             }
            },
            "header": {
             "fill": {
              "color": "#C8D4E3"
             },
             "line": {
              "color": "white"
             }
            },
            "type": "table"
           }
          ]
         },
         "layout": {
          "annotationdefaults": {
           "arrowcolor": "#2a3f5f",
           "arrowhead": 0,
           "arrowwidth": 1
          },
          "autotypenumbers": "strict",
          "coloraxis": {
           "colorbar": {
            "outlinewidth": 0,
            "ticks": ""
           }
          },
          "colorscale": {
           "diverging": [
            [
             0,
             "#8e0152"
            ],
            [
             0.1,
             "#c51b7d"
            ],
            [
             0.2,
             "#de77ae"
            ],
            [
             0.3,
             "#f1b6da"
            ],
            [
             0.4,
             "#fde0ef"
            ],
            [
             0.5,
             "#f7f7f7"
            ],
            [
             0.6,
             "#e6f5d0"
            ],
            [
             0.7,
             "#b8e186"
            ],
            [
             0.8,
             "#7fbc41"
            ],
            [
             0.9,
             "#4d9221"
            ],
            [
             1,
             "#276419"
            ]
           ],
           "sequential": [
            [
             0,
             "#0d0887"
            ],
            [
             0.1111111111111111,
             "#46039f"
            ],
            [
             0.2222222222222222,
             "#7201a8"
            ],
            [
             0.3333333333333333,
             "#9c179e"
            ],
            [
             0.4444444444444444,
             "#bd3786"
            ],
            [
             0.5555555555555556,
             "#d8576b"
            ],
            [
             0.6666666666666666,
             "#ed7953"
            ],
            [
             0.7777777777777778,
             "#fb9f3a"
            ],
            [
             0.8888888888888888,
             "#fdca26"
            ],
            [
             1,
             "#f0f921"
            ]
           ],
           "sequentialminus": [
            [
             0,
             "#0d0887"
            ],
            [
             0.1111111111111111,
             "#46039f"
            ],
            [
             0.2222222222222222,
             "#7201a8"
            ],
            [
             0.3333333333333333,
             "#9c179e"
            ],
            [
             0.4444444444444444,
             "#bd3786"
            ],
            [
             0.5555555555555556,
             "#d8576b"
            ],
            [
             0.6666666666666666,
             "#ed7953"
            ],
            [
             0.7777777777777778,
             "#fb9f3a"
            ],
            [
             0.8888888888888888,
             "#fdca26"
            ],
            [
             1,
             "#f0f921"
            ]
           ]
          },
          "colorway": [
           "#636efa",
           "#EF553B",
           "#00cc96",
           "#ab63fa",
           "#FFA15A",
           "#19d3f3",
           "#FF6692",
           "#B6E880",
           "#FF97FF",
           "#FECB52"
          ],
          "font": {
           "color": "#2a3f5f"
          },
          "geo": {
           "bgcolor": "white",
           "lakecolor": "white",
           "landcolor": "#E5ECF6",
           "showlakes": true,
           "showland": true,
           "subunitcolor": "white"
          },
          "hoverlabel": {
           "align": "left"
          },
          "hovermode": "closest",
          "mapbox": {
           "style": "light"
          },
          "paper_bgcolor": "white",
          "plot_bgcolor": "#E5ECF6",
          "polar": {
           "angularaxis": {
            "gridcolor": "white",
            "linecolor": "white",
            "ticks": ""
           },
           "bgcolor": "#E5ECF6",
           "radialaxis": {
            "gridcolor": "white",
            "linecolor": "white",
            "ticks": ""
           }
          },
          "scene": {
           "xaxis": {
            "backgroundcolor": "#E5ECF6",
            "gridcolor": "white",
            "gridwidth": 2,
            "linecolor": "white",
            "showbackground": true,
            "ticks": "",
            "zerolinecolor": "white"
           },
           "yaxis": {
            "backgroundcolor": "#E5ECF6",
            "gridcolor": "white",
            "gridwidth": 2,
            "linecolor": "white",
            "showbackground": true,
            "ticks": "",
            "zerolinecolor": "white"
           },
           "zaxis": {
            "backgroundcolor": "#E5ECF6",
            "gridcolor": "white",
            "gridwidth": 2,
            "linecolor": "white",
            "showbackground": true,
            "ticks": "",
            "zerolinecolor": "white"
           }
          },
          "shapedefaults": {
           "line": {
            "color": "#2a3f5f"
           }
          },
          "ternary": {
           "aaxis": {
            "gridcolor": "white",
            "linecolor": "white",
            "ticks": ""
           },
           "baxis": {
            "gridcolor": "white",
            "linecolor": "white",
            "ticks": ""
           },
           "bgcolor": "#E5ECF6",
           "caxis": {
            "gridcolor": "white",
            "linecolor": "white",
            "ticks": ""
           }
          },
          "title": {
           "x": 0.05
          },
          "xaxis": {
           "automargin": true,
           "gridcolor": "white",
           "linecolor": "white",
           "ticks": "",
           "title": {
            "standoff": 15
           },
           "zerolinecolor": "white",
           "zerolinewidth": 2
          },
          "yaxis": {
           "automargin": true,
           "gridcolor": "white",
           "linecolor": "white",
           "ticks": "",
           "title": {
            "standoff": 15
           },
           "zerolinecolor": "white",
           "zerolinewidth": 2
          }
         }
        },
        "title": {
         "text": "Example Sankey Diagram"
        }
       }
      },
      "text/html": [
       "<div>                            <div id=\"7fecec19-0c96-4348-a020-a80a279cc280\" class=\"plotly-graph-div\" style=\"height:525px; width:100%;\"></div>            <script type=\"text/javascript\">                require([\"plotly\"], function(Plotly) {                    window.PLOTLYENV=window.PLOTLYENV || {};                                    if (document.getElementById(\"7fecec19-0c96-4348-a020-a80a279cc280\")) {                    Plotly.newPlot(                        \"7fecec19-0c96-4348-a020-a80a279cc280\",                        [{\"link\":{\"source\":[0,1,0,2,3,3],\"target\":[2,3,3,4,4,5],\"value\":[8,4,2,8,4,2]},\"node\":{\"color\":\"cyan\",\"label\":[\"A1\",\"A2\",\"B1\",\"B2\",\"C1\",\"C2\"],\"line\":{\"color\":\"black\",\"width\":1.5},\"pad\":15,\"thickness\":20},\"type\":\"sankey\"}],                        {\"template\":{\"data\":{\"histogram2dcontour\":[{\"type\":\"histogram2dcontour\",\"colorbar\":{\"outlinewidth\":0,\"ticks\":\"\"},\"colorscale\":[[0.0,\"#0d0887\"],[0.1111111111111111,\"#46039f\"],[0.2222222222222222,\"#7201a8\"],[0.3333333333333333,\"#9c179e\"],[0.4444444444444444,\"#bd3786\"],[0.5555555555555556,\"#d8576b\"],[0.6666666666666666,\"#ed7953\"],[0.7777777777777778,\"#fb9f3a\"],[0.8888888888888888,\"#fdca26\"],[1.0,\"#f0f921\"]]}],\"choropleth\":[{\"type\":\"choropleth\",\"colorbar\":{\"outlinewidth\":0,\"ticks\":\"\"}}],\"histogram2d\":[{\"type\":\"histogram2d\",\"colorbar\":{\"outlinewidth\":0,\"ticks\":\"\"},\"colorscale\":[[0.0,\"#0d0887\"],[0.1111111111111111,\"#46039f\"],[0.2222222222222222,\"#7201a8\"],[0.3333333333333333,\"#9c179e\"],[0.4444444444444444,\"#bd3786\"],[0.5555555555555556,\"#d8576b\"],[0.6666666666666666,\"#ed7953\"],[0.7777777777777778,\"#fb9f3a\"],[0.8888888888888888,\"#fdca26\"],[1.0,\"#f0f921\"]]}],\"heatmap\":[{\"type\":\"heatmap\",\"colorbar\":{\"outlinewidth\":0,\"ticks\":\"\"},\"colorscale\":[[0.0,\"#0d0887\"],[0.1111111111111111,\"#46039f\"],[0.2222222222222222,\"#7201a8\"],[0.3333333333333333,\"#9c179e\"],[0.4444444444444444,\"#bd3786\"],[0.5555555555555556,\"#d8576b\"],[0.6666666666666666,\"#ed7953\"],[0.7777777777777778,\"#fb9f3a\"],[0.8888888888888888,\"#fdca26\"],[1.0,\"#f0f921\"]]}],\"heatmapgl\":[{\"type\":\"heatmapgl\",\"colorbar\":{\"outlinewidth\":0,\"ticks\":\"\"},\"colorscale\":[[0.0,\"#0d0887\"],[0.1111111111111111,\"#46039f\"],[0.2222222222222222,\"#7201a8\"],[0.3333333333333333,\"#9c179e\"],[0.4444444444444444,\"#bd3786\"],[0.5555555555555556,\"#d8576b\"],[0.6666666666666666,\"#ed7953\"],[0.7777777777777778,\"#fb9f3a\"],[0.8888888888888888,\"#fdca26\"],[1.0,\"#f0f921\"]]}],\"contourcarpet\":[{\"type\":\"contourcarpet\",\"colorbar\":{\"outlinewidth\":0,\"ticks\":\"\"}}],\"contour\":[{\"type\":\"contour\",\"colorbar\":{\"outlinewidth\":0,\"ticks\":\"\"},\"colorscale\":[[0.0,\"#0d0887\"],[0.1111111111111111,\"#46039f\"],[0.2222222222222222,\"#7201a8\"],[0.3333333333333333,\"#9c179e\"],[0.4444444444444444,\"#bd3786\"],[0.5555555555555556,\"#d8576b\"],[0.6666666666666666,\"#ed7953\"],[0.7777777777777778,\"#fb9f3a\"],[0.8888888888888888,\"#fdca26\"],[1.0,\"#f0f921\"]]}],\"surface\":[{\"type\":\"surface\",\"colorbar\":{\"outlinewidth\":0,\"ticks\":\"\"},\"colorscale\":[[0.0,\"#0d0887\"],[0.1111111111111111,\"#46039f\"],[0.2222222222222222,\"#7201a8\"],[0.3333333333333333,\"#9c179e\"],[0.4444444444444444,\"#bd3786\"],[0.5555555555555556,\"#d8576b\"],[0.6666666666666666,\"#ed7953\"],[0.7777777777777778,\"#fb9f3a\"],[0.8888888888888888,\"#fdca26\"],[1.0,\"#f0f921\"]]}],\"mesh3d\":[{\"type\":\"mesh3d\",\"colorbar\":{\"outlinewidth\":0,\"ticks\":\"\"}}],\"scatter\":[{\"fillpattern\":{\"fillmode\":\"overlay\",\"size\":10,\"solidity\":0.2},\"type\":\"scatter\"}],\"parcoords\":[{\"type\":\"parcoords\",\"line\":{\"colorbar\":{\"outlinewidth\":0,\"ticks\":\"\"}}}],\"scatterpolargl\":[{\"type\":\"scatterpolargl\",\"marker\":{\"colorbar\":{\"outlinewidth\":0,\"ticks\":\"\"}}}],\"bar\":[{\"error_x\":{\"color\":\"#2a3f5f\"},\"error_y\":{\"color\":\"#2a3f5f\"},\"marker\":{\"line\":{\"color\":\"#E5ECF6\",\"width\":0.5},\"pattern\":{\"fillmode\":\"overlay\",\"size\":10,\"solidity\":0.2}},\"type\":\"bar\"}],\"scattergeo\":[{\"type\":\"scattergeo\",\"marker\":{\"colorbar\":{\"outlinewidth\":0,\"ticks\":\"\"}}}],\"scatterpolar\":[{\"type\":\"scatterpolar\",\"marker\":{\"colorbar\":{\"outlinewidth\":0,\"ticks\":\"\"}}}],\"histogram\":[{\"marker\":{\"pattern\":{\"fillmode\":\"overlay\",\"size\":10,\"solidity\":0.2}},\"type\":\"histogram\"}],\"scattergl\":[{\"type\":\"scattergl\",\"marker\":{\"colorbar\":{\"outlinewidth\":0,\"ticks\":\"\"}}}],\"scatter3d\":[{\"type\":\"scatter3d\",\"line\":{\"colorbar\":{\"outlinewidth\":0,\"ticks\":\"\"}},\"marker\":{\"colorbar\":{\"outlinewidth\":0,\"ticks\":\"\"}}}],\"scattermapbox\":[{\"type\":\"scattermapbox\",\"marker\":{\"colorbar\":{\"outlinewidth\":0,\"ticks\":\"\"}}}],\"scatterternary\":[{\"type\":\"scatterternary\",\"marker\":{\"colorbar\":{\"outlinewidth\":0,\"ticks\":\"\"}}}],\"scattercarpet\":[{\"type\":\"scattercarpet\",\"marker\":{\"colorbar\":{\"outlinewidth\":0,\"ticks\":\"\"}}}],\"carpet\":[{\"aaxis\":{\"endlinecolor\":\"#2a3f5f\",\"gridcolor\":\"white\",\"linecolor\":\"white\",\"minorgridcolor\":\"white\",\"startlinecolor\":\"#2a3f5f\"},\"baxis\":{\"endlinecolor\":\"#2a3f5f\",\"gridcolor\":\"white\",\"linecolor\":\"white\",\"minorgridcolor\":\"white\",\"startlinecolor\":\"#2a3f5f\"},\"type\":\"carpet\"}],\"table\":[{\"cells\":{\"fill\":{\"color\":\"#EBF0F8\"},\"line\":{\"color\":\"white\"}},\"header\":{\"fill\":{\"color\":\"#C8D4E3\"},\"line\":{\"color\":\"white\"}},\"type\":\"table\"}],\"barpolar\":[{\"marker\":{\"line\":{\"color\":\"#E5ECF6\",\"width\":0.5},\"pattern\":{\"fillmode\":\"overlay\",\"size\":10,\"solidity\":0.2}},\"type\":\"barpolar\"}],\"pie\":[{\"automargin\":true,\"type\":\"pie\"}]},\"layout\":{\"autotypenumbers\":\"strict\",\"colorway\":[\"#636efa\",\"#EF553B\",\"#00cc96\",\"#ab63fa\",\"#FFA15A\",\"#19d3f3\",\"#FF6692\",\"#B6E880\",\"#FF97FF\",\"#FECB52\"],\"font\":{\"color\":\"#2a3f5f\"},\"hovermode\":\"closest\",\"hoverlabel\":{\"align\":\"left\"},\"paper_bgcolor\":\"white\",\"plot_bgcolor\":\"#E5ECF6\",\"polar\":{\"bgcolor\":\"#E5ECF6\",\"angularaxis\":{\"gridcolor\":\"white\",\"linecolor\":\"white\",\"ticks\":\"\"},\"radialaxis\":{\"gridcolor\":\"white\",\"linecolor\":\"white\",\"ticks\":\"\"}},\"ternary\":{\"bgcolor\":\"#E5ECF6\",\"aaxis\":{\"gridcolor\":\"white\",\"linecolor\":\"white\",\"ticks\":\"\"},\"baxis\":{\"gridcolor\":\"white\",\"linecolor\":\"white\",\"ticks\":\"\"},\"caxis\":{\"gridcolor\":\"white\",\"linecolor\":\"white\",\"ticks\":\"\"}},\"coloraxis\":{\"colorbar\":{\"outlinewidth\":0,\"ticks\":\"\"}},\"colorscale\":{\"sequential\":[[0.0,\"#0d0887\"],[0.1111111111111111,\"#46039f\"],[0.2222222222222222,\"#7201a8\"],[0.3333333333333333,\"#9c179e\"],[0.4444444444444444,\"#bd3786\"],[0.5555555555555556,\"#d8576b\"],[0.6666666666666666,\"#ed7953\"],[0.7777777777777778,\"#fb9f3a\"],[0.8888888888888888,\"#fdca26\"],[1.0,\"#f0f921\"]],\"sequentialminus\":[[0.0,\"#0d0887\"],[0.1111111111111111,\"#46039f\"],[0.2222222222222222,\"#7201a8\"],[0.3333333333333333,\"#9c179e\"],[0.4444444444444444,\"#bd3786\"],[0.5555555555555556,\"#d8576b\"],[0.6666666666666666,\"#ed7953\"],[0.7777777777777778,\"#fb9f3a\"],[0.8888888888888888,\"#fdca26\"],[1.0,\"#f0f921\"]],\"diverging\":[[0,\"#8e0152\"],[0.1,\"#c51b7d\"],[0.2,\"#de77ae\"],[0.3,\"#f1b6da\"],[0.4,\"#fde0ef\"],[0.5,\"#f7f7f7\"],[0.6,\"#e6f5d0\"],[0.7,\"#b8e186\"],[0.8,\"#7fbc41\"],[0.9,\"#4d9221\"],[1,\"#276419\"]]},\"xaxis\":{\"gridcolor\":\"white\",\"linecolor\":\"white\",\"ticks\":\"\",\"title\":{\"standoff\":15},\"zerolinecolor\":\"white\",\"automargin\":true,\"zerolinewidth\":2},\"yaxis\":{\"gridcolor\":\"white\",\"linecolor\":\"white\",\"ticks\":\"\",\"title\":{\"standoff\":15},\"zerolinecolor\":\"white\",\"automargin\":true,\"zerolinewidth\":2},\"scene\":{\"xaxis\":{\"backgroundcolor\":\"#E5ECF6\",\"gridcolor\":\"white\",\"linecolor\":\"white\",\"showbackground\":true,\"ticks\":\"\",\"zerolinecolor\":\"white\",\"gridwidth\":2},\"yaxis\":{\"backgroundcolor\":\"#E5ECF6\",\"gridcolor\":\"white\",\"linecolor\":\"white\",\"showbackground\":true,\"ticks\":\"\",\"zerolinecolor\":\"white\",\"gridwidth\":2},\"zaxis\":{\"backgroundcolor\":\"#E5ECF6\",\"gridcolor\":\"white\",\"linecolor\":\"white\",\"showbackground\":true,\"ticks\":\"\",\"zerolinecolor\":\"white\",\"gridwidth\":2}},\"shapedefaults\":{\"line\":{\"color\":\"#2a3f5f\"}},\"annotationdefaults\":{\"arrowcolor\":\"#2a3f5f\",\"arrowhead\":0,\"arrowwidth\":1},\"geo\":{\"bgcolor\":\"white\",\"landcolor\":\"#E5ECF6\",\"subunitcolor\":\"white\",\"showland\":true,\"showlakes\":true,\"lakecolor\":\"white\"},\"title\":{\"x\":0.05},\"mapbox\":{\"style\":\"light\"}}},\"title\":{\"text\":\"Example Sankey Diagram\"},\"font\":{\"size\":10}},                        {\"responsive\": true}                    ).then(function(){\n",
       "                            \n",
       "var gd = document.getElementById('7fecec19-0c96-4348-a020-a80a279cc280');\n",
       "var x = new MutationObserver(function (mutations, observer) {{\n",
       "        var display = window.getComputedStyle(gd).display;\n",
       "        if (!display || display === 'none') {{\n",
       "            console.log([gd, 'removed!']);\n",
       "            Plotly.purge(gd);\n",
       "            observer.disconnect();\n",
       "        }}\n",
       "}});\n",
       "\n",
       "// Listen for the removal of the full notebook cells\n",
       "var notebookContainer = gd.closest('#notebook-container');\n",
       "if (notebookContainer) {{\n",
       "    x.observe(notebookContainer, {childList: true});\n",
       "}}\n",
       "\n",
       "// Listen for the clearing of the current output cell\n",
       "var outputEl = gd.closest('.output');\n",
       "if (outputEl) {{\n",
       "    x.observe(outputEl, {childList: true});\n",
       "}}\n",
       "\n",
       "                        })                };                });            </script>        </div>"
      ]
     },
     "metadata": {},
     "output_type": "display_data"
    }
   ],
   "source": [
    "import plotly.graph_objects as go\n",
    "\n",
    "fig = go.Figure(data=[go.Sankey(\n",
    "    node = dict(\n",
    "      pad = 15,\n",
    "      thickness = 20,\n",
    "      line = dict(color = \"black\", width = 1.5),\n",
    "      label = [\"A1\", \"A2\", \"B1\", \"B2\", \"C1\", \"C2\"],\n",
    "      color = \"cyan\"\n",
    "    ),\n",
    "    link = dict(\n",
    "      source = [0, 1, 0, 2, 3, 3], # indices correspond to labels, eg A1, A2, A1, B1, ...\n",
    "      target = [2, 3, 3, 4, 4, 5],\n",
    "      value = [8, 4, 2, 8, 4, 2]\n",
    "  ))])\n",
    "\n",
    "fig.update_layout(title_text=\"Example Sankey Diagram\", font_size=10)\n",
    "fig.show()"
   ]
  },
  {
   "attachments": {},
   "cell_type": "markdown",
   "id": "cdfc5b0d",
   "metadata": {},
   "source": [
    "# Plotting of Reddit Data Classes"
   ]
  },
  {
   "cell_type": "code",
   "execution_count": 11,
   "id": "7e30855d",
   "metadata": {},
   "outputs": [
    {
     "name": "stderr",
     "output_type": "stream",
     "text": [
      "Bucket Subprocess - Loading Data: 100%|\u001b[38;2;100;131;129m██████████\u001b[0m| 1293082/1293082 [00:48<00:00, 26580.56it/s]\n"
     ]
    }
   ],
   "source": [
    "file_path = \"data/florida_comments.json\"\n",
    "\n",
    "# Getting the activity data from JSON\n",
    "with open(file_path, 'r') as file:\n",
    "    json_data = file.readlines()\n",
    "\n",
    "# Initialise progress bar\n",
    "progress_bar = tqdm.tqdm(total=len(json_data), colour='#648381')\n",
    "\n",
    "# Add descriptive text to progress bar\n",
    "progress_bar.set_description(\"Bucket Subprocess - Loading Data\")\n",
    "\n",
    "# Initialise list of dictionaries to store author and time of creation for each entry\n",
    "alluv_author_and_time_of_creation = []\n",
    "for line in json_data:\n",
    "    json_object = json.loads(line)\n",
    "    author = json_object.get('author')\n",
    "    created_utc = int(json_object.get('created_utc'))\n",
    "\n",
    "    if (\n",
    "            author != \"[deleted]\"\n",
    "            and author != \"AutoModerator\"\n",
    "            and created_utc > 1546300801\n",
    "            and created_utc < 1677628801\n",
    "        ):\n",
    "        alluv_author_and_time_of_creation.append({'author': author, 'created_utc': created_utc})\n",
    "    \n",
    "    progress_bar.update(1)\n",
    "\n",
    "# Close progress bar\n",
    "progress_bar.close()\n",
    "\n",
    "# Now alluv_author_and_time_of_creation can be used, it is in the form: [{'author': 'author1', 'created_utc': 1234567890}, {'author': 'author2', 'created_utc': 1234567890}, ...]"
   ]
  },
  {
   "cell_type": "code",
   "execution_count": 12,
   "id": "2127f323",
   "metadata": {},
   "outputs": [
    {
     "name": "stdout",
     "output_type": "stream",
     "text": [
      "[81241, 1664, 1077, 511, 428, 103, 106, 69, 200, 71, 121, 87, 52, 15, 33, 109, 79706, 1298, 672, 245, 1512, 188, 114, 39, 861, 184, 193, 99, 380, 65, 127, 204, 77155, 2703, 1793, 808, 1079, 241, 259, 156, 471, 128, 252, 255, 149, 36, 83, 319]\n"
     ]
    }
   ],
   "source": [
    "import plotly.graph_objects as go\n",
    "import pandas as pd\n",
    "\n",
    "# Time bounds in UTC timestamp (inclusive of lower bound, exclusive of upper bound)\n",
    "# Time interval 0 would be between the first and second bounds, time interval 1 would be between the second and third bounds, etc.\n",
    "time_utc_bounds_list = [1546300801, 1577836801, 1609459201, 1640995201, 16725312001] # 2019-01-01, 2020-01-01, 2021-01-01, 2022-01-01, 2023-01-01\n",
    "\n",
    "# Activity bucket boundaries in number of posts per time interval (inclusive of lower bound and upper bound)\n",
    "bucket_boundaries_list = [[0, 10], [11, 20], [21, 50], [51, 1000000]] # Bounds of activity per time interval\n",
    "\n",
    "# Check if time_utc_bounds_list is in ascending order\n",
    "if not all(time_utc_bounds_list[i] < time_utc_bounds_list[i + 1] for i in range(len(time_utc_bounds_list) - 1)):\n",
    "    raise Exception(\"time_utc_bounds_list is not in ascending order\")\n",
    "\n",
    "# Check if bucket_boundaries_list has lower and upper bounds in correct order\n",
    "for bucket_boundaries in bucket_boundaries_list:\n",
    "    if bucket_boundaries[0] > bucket_boundaries[1]:\n",
    "        raise Exception(\"bucket_boundaries_list has lower and upper bounds in incorrect order\")\n",
    "\n",
    "\n",
    "\n",
    "# Get the total number of posts of each author in each time interval, outputs alluv_author_and_total_posts\n",
    "alluv_author_and_total_posts = {} # A dictionary in the form of {author_username: [total_posts_during_time_interval_1, total_posts_during_time_interval_2, ...]}\n",
    "\n",
    "for submission in alluv_author_and_time_of_creation:\n",
    "    author = submission.get('author')\n",
    "    created_utc = submission.get('created_utc')\n",
    "\n",
    "   # Check if the author has already been added to alluv_author_and_total_posts\n",
    "    if author not in alluv_author_and_total_posts:\n",
    "        alluv_author_and_total_posts[author] = [0] * (len(time_utc_bounds_list) - 1) # Initialise the list of total posts to 0 for each time interval\n",
    "\n",
    "    # Get the index of the time interval that the submission belongs to\n",
    "    for posts_count_index in range(len(time_utc_bounds_list) - 1):\n",
    "        if created_utc >= time_utc_bounds_list[posts_count_index] and created_utc < time_utc_bounds_list[posts_count_index + 1]:\n",
    "            alluv_author_and_total_posts[author][posts_count_index] += 1\n",
    "\n",
    "\n",
    "\n",
    "\n",
    "# Bucket users into boundaries during the time intervals, outputs a dictionary of the form {author_username: [bucket_during_time_interval_1, bucket_during_time_interval_2, ...]}\n",
    "alluv_author_and_buckets = {}\n",
    "\n",
    "for user in alluv_author_and_total_posts:\n",
    "    alluv_author_and_buckets[user] = [0] * (len(time_utc_bounds_list) - 1)\n",
    "    for posts_count_index in range(len(alluv_author_and_total_posts[user])):\n",
    "        for boundary_index in range(len(bucket_boundaries_list)):\n",
    "            if alluv_author_and_total_posts[user][posts_count_index] >= bucket_boundaries_list[boundary_index][0] and alluv_author_and_total_posts[user][posts_count_index] <= bucket_boundaries_list[boundary_index][1]:\n",
    "                alluv_author_and_buckets[user][posts_count_index] = boundary_index\n",
    "                break\n",
    "    \n",
    "\n",
    "\n",
    "# Initiate the alluvial plot elements\n",
    "# Bucket labels in the form of \"timestamp_human_readable_lower_bound - bucket_bound_index\"\n",
    "# bucket_labels ends with:\n",
    "#  ['2019-01-01 - Bucket 0', \n",
    "#   '2019-01-01 - Bucket 1', \n",
    "#   '2019-01-01 - Bucket 2', \n",
    "#   '2019-01-01 - Bucket 3', \n",
    "#   '2020-01-01 - Bucket 0', \n",
    "#   '2020-01-01 - Bucket 1', \n",
    "#   '2020-01-01 - Bucket 2', \n",
    "bucket_labels = []\n",
    "for time_interval in range(len(time_utc_bounds_list) - 1):\n",
    "    for bucket in bucket_boundaries_list:\n",
    "        bucket_labels.append(str(datetime.datetime.fromtimestamp(time_utc_bounds_list[time_interval]).strftime('%Y-%m-%d')) + \" - Bucket \" + str(bucket_boundaries_list.index(bucket)))\n",
    "\n",
    "# Auxiliary data structure to store the label name data in the form of [[time_interval_index, label_bucket_index]]\n",
    "label_aux_list = []\n",
    "for time_interval in range(len(time_utc_bounds_list) - 1):\n",
    "    for bucket in bucket_boundaries_list:\n",
    "        label_aux_list.append([time_interval, bucket_boundaries_list.index(bucket)])\n",
    "\n",
    "# Generate the source and target lists for the alluvial plot\n",
    "source_list = []\n",
    "target_list = []\n",
    "\n",
    "num_buckets = len(bucket_boundaries_list)\n",
    "num_labels = len(bucket_labels)\n",
    "\n",
    "for i in range(0, num_labels - num_buckets, num_buckets):\n",
    "    for j in range(num_buckets):\n",
    "        for k in range(num_buckets):\n",
    "            source_list.append(i + j)\n",
    "            target_list.append(i + k + num_buckets)\n",
    "\n",
    "\n",
    "# Tally the number of users in each source to target relationship\n",
    "tally_src_dest = []\n",
    "for index in range(len(source_list)):\n",
    "    source_time_index = label_aux_list[source_list[index]][0]\n",
    "    source_bucket_index = label_aux_list[source_list[index]][1]\n",
    "\n",
    "    target_time_index = label_aux_list[target_list[index]][0]\n",
    "    target_bucket_index = label_aux_list[target_list[index]][1]\n",
    "\n",
    "    # For this combination of source and targets, tally the number of users\n",
    "    num_users = 0\n",
    "    for user in alluv_author_and_buckets:\n",
    "        user_data = alluv_author_and_buckets[user]\n",
    "        if user_data[source_time_index] == source_bucket_index and user_data[target_time_index] == target_bucket_index:\n",
    "            num_users += 1\n",
    "    \n",
    "    tally_src_dest.append(num_users)\n",
    "\n",
    "print(tally_src_dest)\n"
   ]
  },
  {
   "cell_type": "code",
   "execution_count": 13,
   "id": "7562e551",
   "metadata": {},
   "outputs": [
    {
     "data": {
      "application/vnd.plotly.v1+json": {
       "config": {
        "plotlyServerURL": "https://plot.ly"
       },
       "data": [
        {
         "link": {
          "source": [
           0,
           0,
           0,
           0,
           1,
           1,
           1,
           1,
           2,
           2,
           2,
           2,
           3,
           3,
           3,
           3,
           4,
           4,
           4,
           4,
           5,
           5,
           5,
           5,
           6,
           6,
           6,
           6,
           7,
           7,
           7,
           7,
           8,
           8,
           8,
           8,
           9,
           9,
           9,
           9,
           10,
           10,
           10,
           10,
           11,
           11,
           11,
           11
          ],
          "target": [
           4,
           5,
           6,
           7,
           4,
           5,
           6,
           7,
           4,
           5,
           6,
           7,
           4,
           5,
           6,
           7,
           8,
           9,
           10,
           11,
           8,
           9,
           10,
           11,
           8,
           9,
           10,
           11,
           8,
           9,
           10,
           11,
           12,
           13,
           14,
           15,
           12,
           13,
           14,
           15,
           12,
           13,
           14,
           15,
           12,
           13,
           14,
           15
          ],
          "value": [
           81241,
           1664,
           1077,
           511,
           428,
           103,
           106,
           69,
           200,
           71,
           121,
           87,
           52,
           15,
           33,
           109,
           79706,
           1298,
           672,
           245,
           1512,
           188,
           114,
           39,
           861,
           184,
           193,
           99,
           380,
           65,
           127,
           204,
           77155,
           2703,
           1793,
           808,
           1079,
           241,
           259,
           156,
           471,
           128,
           252,
           255,
           149,
           36,
           83,
           319
          ]
         },
         "node": {
          "color": "blue",
          "label": [
           "2019-01-01 - Bucket 0",
           "2019-01-01 - Bucket 1",
           "2019-01-01 - Bucket 2",
           "2019-01-01 - Bucket 3",
           "2020-01-01 - Bucket 0",
           "2020-01-01 - Bucket 1",
           "2020-01-01 - Bucket 2",
           "2020-01-01 - Bucket 3",
           "2021-01-01 - Bucket 0",
           "2021-01-01 - Bucket 1",
           "2021-01-01 - Bucket 2",
           "2021-01-01 - Bucket 3",
           "2022-01-01 - Bucket 0",
           "2022-01-01 - Bucket 1",
           "2022-01-01 - Bucket 2",
           "2022-01-01 - Bucket 3"
          ],
          "line": {
           "color": "black",
           "width": 1.5
          },
          "pad": 15,
          "thickness": 20
         },
         "type": "sankey"
        }
       ],
       "layout": {
        "font": {
         "size": 10
        },
        "template": {
         "data": {
          "bar": [
           {
            "error_x": {
             "color": "#2a3f5f"
            },
            "error_y": {
             "color": "#2a3f5f"
            },
            "marker": {
             "line": {
              "color": "#E5ECF6",
              "width": 0.5
             },
             "pattern": {
              "fillmode": "overlay",
              "size": 10,
              "solidity": 0.2
             }
            },
            "type": "bar"
           }
          ],
          "barpolar": [
           {
            "marker": {
             "line": {
              "color": "#E5ECF6",
              "width": 0.5
             },
             "pattern": {
              "fillmode": "overlay",
              "size": 10,
              "solidity": 0.2
             }
            },
            "type": "barpolar"
           }
          ],
          "carpet": [
           {
            "aaxis": {
             "endlinecolor": "#2a3f5f",
             "gridcolor": "white",
             "linecolor": "white",
             "minorgridcolor": "white",
             "startlinecolor": "#2a3f5f"
            },
            "baxis": {
             "endlinecolor": "#2a3f5f",
             "gridcolor": "white",
             "linecolor": "white",
             "minorgridcolor": "white",
             "startlinecolor": "#2a3f5f"
            },
            "type": "carpet"
           }
          ],
          "choropleth": [
           {
            "colorbar": {
             "outlinewidth": 0,
             "ticks": ""
            },
            "type": "choropleth"
           }
          ],
          "contour": [
           {
            "colorbar": {
             "outlinewidth": 0,
             "ticks": ""
            },
            "colorscale": [
             [
              0,
              "#0d0887"
             ],
             [
              0.1111111111111111,
              "#46039f"
             ],
             [
              0.2222222222222222,
              "#7201a8"
             ],
             [
              0.3333333333333333,
              "#9c179e"
             ],
             [
              0.4444444444444444,
              "#bd3786"
             ],
             [
              0.5555555555555556,
              "#d8576b"
             ],
             [
              0.6666666666666666,
              "#ed7953"
             ],
             [
              0.7777777777777778,
              "#fb9f3a"
             ],
             [
              0.8888888888888888,
              "#fdca26"
             ],
             [
              1,
              "#f0f921"
             ]
            ],
            "type": "contour"
           }
          ],
          "contourcarpet": [
           {
            "colorbar": {
             "outlinewidth": 0,
             "ticks": ""
            },
            "type": "contourcarpet"
           }
          ],
          "heatmap": [
           {
            "colorbar": {
             "outlinewidth": 0,
             "ticks": ""
            },
            "colorscale": [
             [
              0,
              "#0d0887"
             ],
             [
              0.1111111111111111,
              "#46039f"
             ],
             [
              0.2222222222222222,
              "#7201a8"
             ],
             [
              0.3333333333333333,
              "#9c179e"
             ],
             [
              0.4444444444444444,
              "#bd3786"
             ],
             [
              0.5555555555555556,
              "#d8576b"
             ],
             [
              0.6666666666666666,
              "#ed7953"
             ],
             [
              0.7777777777777778,
              "#fb9f3a"
             ],
             [
              0.8888888888888888,
              "#fdca26"
             ],
             [
              1,
              "#f0f921"
             ]
            ],
            "type": "heatmap"
           }
          ],
          "heatmapgl": [
           {
            "colorbar": {
             "outlinewidth": 0,
             "ticks": ""
            },
            "colorscale": [
             [
              0,
              "#0d0887"
             ],
             [
              0.1111111111111111,
              "#46039f"
             ],
             [
              0.2222222222222222,
              "#7201a8"
             ],
             [
              0.3333333333333333,
              "#9c179e"
             ],
             [
              0.4444444444444444,
              "#bd3786"
             ],
             [
              0.5555555555555556,
              "#d8576b"
             ],
             [
              0.6666666666666666,
              "#ed7953"
             ],
             [
              0.7777777777777778,
              "#fb9f3a"
             ],
             [
              0.8888888888888888,
              "#fdca26"
             ],
             [
              1,
              "#f0f921"
             ]
            ],
            "type": "heatmapgl"
           }
          ],
          "histogram": [
           {
            "marker": {
             "pattern": {
              "fillmode": "overlay",
              "size": 10,
              "solidity": 0.2
             }
            },
            "type": "histogram"
           }
          ],
          "histogram2d": [
           {
            "colorbar": {
             "outlinewidth": 0,
             "ticks": ""
            },
            "colorscale": [
             [
              0,
              "#0d0887"
             ],
             [
              0.1111111111111111,
              "#46039f"
             ],
             [
              0.2222222222222222,
              "#7201a8"
             ],
             [
              0.3333333333333333,
              "#9c179e"
             ],
             [
              0.4444444444444444,
              "#bd3786"
             ],
             [
              0.5555555555555556,
              "#d8576b"
             ],
             [
              0.6666666666666666,
              "#ed7953"
             ],
             [
              0.7777777777777778,
              "#fb9f3a"
             ],
             [
              0.8888888888888888,
              "#fdca26"
             ],
             [
              1,
              "#f0f921"
             ]
            ],
            "type": "histogram2d"
           }
          ],
          "histogram2dcontour": [
           {
            "colorbar": {
             "outlinewidth": 0,
             "ticks": ""
            },
            "colorscale": [
             [
              0,
              "#0d0887"
             ],
             [
              0.1111111111111111,
              "#46039f"
             ],
             [
              0.2222222222222222,
              "#7201a8"
             ],
             [
              0.3333333333333333,
              "#9c179e"
             ],
             [
              0.4444444444444444,
              "#bd3786"
             ],
             [
              0.5555555555555556,
              "#d8576b"
             ],
             [
              0.6666666666666666,
              "#ed7953"
             ],
             [
              0.7777777777777778,
              "#fb9f3a"
             ],
             [
              0.8888888888888888,
              "#fdca26"
             ],
             [
              1,
              "#f0f921"
             ]
            ],
            "type": "histogram2dcontour"
           }
          ],
          "mesh3d": [
           {
            "colorbar": {
             "outlinewidth": 0,
             "ticks": ""
            },
            "type": "mesh3d"
           }
          ],
          "parcoords": [
           {
            "line": {
             "colorbar": {
              "outlinewidth": 0,
              "ticks": ""
             }
            },
            "type": "parcoords"
           }
          ],
          "pie": [
           {
            "automargin": true,
            "type": "pie"
           }
          ],
          "scatter": [
           {
            "fillpattern": {
             "fillmode": "overlay",
             "size": 10,
             "solidity": 0.2
            },
            "type": "scatter"
           }
          ],
          "scatter3d": [
           {
            "line": {
             "colorbar": {
              "outlinewidth": 0,
              "ticks": ""
             }
            },
            "marker": {
             "colorbar": {
              "outlinewidth": 0,
              "ticks": ""
             }
            },
            "type": "scatter3d"
           }
          ],
          "scattercarpet": [
           {
            "marker": {
             "colorbar": {
              "outlinewidth": 0,
              "ticks": ""
             }
            },
            "type": "scattercarpet"
           }
          ],
          "scattergeo": [
           {
            "marker": {
             "colorbar": {
              "outlinewidth": 0,
              "ticks": ""
             }
            },
            "type": "scattergeo"
           }
          ],
          "scattergl": [
           {
            "marker": {
             "colorbar": {
              "outlinewidth": 0,
              "ticks": ""
             }
            },
            "type": "scattergl"
           }
          ],
          "scattermapbox": [
           {
            "marker": {
             "colorbar": {
              "outlinewidth": 0,
              "ticks": ""
             }
            },
            "type": "scattermapbox"
           }
          ],
          "scatterpolar": [
           {
            "marker": {
             "colorbar": {
              "outlinewidth": 0,
              "ticks": ""
             }
            },
            "type": "scatterpolar"
           }
          ],
          "scatterpolargl": [
           {
            "marker": {
             "colorbar": {
              "outlinewidth": 0,
              "ticks": ""
             }
            },
            "type": "scatterpolargl"
           }
          ],
          "scatterternary": [
           {
            "marker": {
             "colorbar": {
              "outlinewidth": 0,
              "ticks": ""
             }
            },
            "type": "scatterternary"
           }
          ],
          "surface": [
           {
            "colorbar": {
             "outlinewidth": 0,
             "ticks": ""
            },
            "colorscale": [
             [
              0,
              "#0d0887"
             ],
             [
              0.1111111111111111,
              "#46039f"
             ],
             [
              0.2222222222222222,
              "#7201a8"
             ],
             [
              0.3333333333333333,
              "#9c179e"
             ],
             [
              0.4444444444444444,
              "#bd3786"
             ],
             [
              0.5555555555555556,
              "#d8576b"
             ],
             [
              0.6666666666666666,
              "#ed7953"
             ],
             [
              0.7777777777777778,
              "#fb9f3a"
             ],
             [
              0.8888888888888888,
              "#fdca26"
             ],
             [
              1,
              "#f0f921"
             ]
            ],
            "type": "surface"
           }
          ],
          "table": [
           {
            "cells": {
             "fill": {
              "color": "#EBF0F8"
             },
             "line": {
              "color": "white"
             }
            },
            "header": {
             "fill": {
              "color": "#C8D4E3"
             },
             "line": {
              "color": "white"
             }
            },
            "type": "table"
           }
          ]
         },
         "layout": {
          "annotationdefaults": {
           "arrowcolor": "#2a3f5f",
           "arrowhead": 0,
           "arrowwidth": 1
          },
          "autotypenumbers": "strict",
          "coloraxis": {
           "colorbar": {
            "outlinewidth": 0,
            "ticks": ""
           }
          },
          "colorscale": {
           "diverging": [
            [
             0,
             "#8e0152"
            ],
            [
             0.1,
             "#c51b7d"
            ],
            [
             0.2,
             "#de77ae"
            ],
            [
             0.3,
             "#f1b6da"
            ],
            [
             0.4,
             "#fde0ef"
            ],
            [
             0.5,
             "#f7f7f7"
            ],
            [
             0.6,
             "#e6f5d0"
            ],
            [
             0.7,
             "#b8e186"
            ],
            [
             0.8,
             "#7fbc41"
            ],
            [
             0.9,
             "#4d9221"
            ],
            [
             1,
             "#276419"
            ]
           ],
           "sequential": [
            [
             0,
             "#0d0887"
            ],
            [
             0.1111111111111111,
             "#46039f"
            ],
            [
             0.2222222222222222,
             "#7201a8"
            ],
            [
             0.3333333333333333,
             "#9c179e"
            ],
            [
             0.4444444444444444,
             "#bd3786"
            ],
            [
             0.5555555555555556,
             "#d8576b"
            ],
            [
             0.6666666666666666,
             "#ed7953"
            ],
            [
             0.7777777777777778,
             "#fb9f3a"
            ],
            [
             0.8888888888888888,
             "#fdca26"
            ],
            [
             1,
             "#f0f921"
            ]
           ],
           "sequentialminus": [
            [
             0,
             "#0d0887"
            ],
            [
             0.1111111111111111,
             "#46039f"
            ],
            [
             0.2222222222222222,
             "#7201a8"
            ],
            [
             0.3333333333333333,
             "#9c179e"
            ],
            [
             0.4444444444444444,
             "#bd3786"
            ],
            [
             0.5555555555555556,
             "#d8576b"
            ],
            [
             0.6666666666666666,
             "#ed7953"
            ],
            [
             0.7777777777777778,
             "#fb9f3a"
            ],
            [
             0.8888888888888888,
             "#fdca26"
            ],
            [
             1,
             "#f0f921"
            ]
           ]
          },
          "colorway": [
           "#636efa",
           "#EF553B",
           "#00cc96",
           "#ab63fa",
           "#FFA15A",
           "#19d3f3",
           "#FF6692",
           "#B6E880",
           "#FF97FF",
           "#FECB52"
          ],
          "font": {
           "color": "#2a3f5f"
          },
          "geo": {
           "bgcolor": "white",
           "lakecolor": "white",
           "landcolor": "#E5ECF6",
           "showlakes": true,
           "showland": true,
           "subunitcolor": "white"
          },
          "hoverlabel": {
           "align": "left"
          },
          "hovermode": "closest",
          "mapbox": {
           "style": "light"
          },
          "paper_bgcolor": "white",
          "plot_bgcolor": "#E5ECF6",
          "polar": {
           "angularaxis": {
            "gridcolor": "white",
            "linecolor": "white",
            "ticks": ""
           },
           "bgcolor": "#E5ECF6",
           "radialaxis": {
            "gridcolor": "white",
            "linecolor": "white",
            "ticks": ""
           }
          },
          "scene": {
           "xaxis": {
            "backgroundcolor": "#E5ECF6",
            "gridcolor": "white",
            "gridwidth": 2,
            "linecolor": "white",
            "showbackground": true,
            "ticks": "",
            "zerolinecolor": "white"
           },
           "yaxis": {
            "backgroundcolor": "#E5ECF6",
            "gridcolor": "white",
            "gridwidth": 2,
            "linecolor": "white",
            "showbackground": true,
            "ticks": "",
            "zerolinecolor": "white"
           },
           "zaxis": {
            "backgroundcolor": "#E5ECF6",
            "gridcolor": "white",
            "gridwidth": 2,
            "linecolor": "white",
            "showbackground": true,
            "ticks": "",
            "zerolinecolor": "white"
           }
          },
          "shapedefaults": {
           "line": {
            "color": "#2a3f5f"
           }
          },
          "ternary": {
           "aaxis": {
            "gridcolor": "white",
            "linecolor": "white",
            "ticks": ""
           },
           "baxis": {
            "gridcolor": "white",
            "linecolor": "white",
            "ticks": ""
           },
           "bgcolor": "#E5ECF6",
           "caxis": {
            "gridcolor": "white",
            "linecolor": "white",
            "ticks": ""
           }
          },
          "title": {
           "x": 0.05
          },
          "xaxis": {
           "automargin": true,
           "gridcolor": "white",
           "linecolor": "white",
           "ticks": "",
           "title": {
            "standoff": 15
           },
           "zerolinecolor": "white",
           "zerolinewidth": 2
          },
          "yaxis": {
           "automargin": true,
           "gridcolor": "white",
           "linecolor": "white",
           "ticks": "",
           "title": {
            "standoff": 15
           },
           "zerolinecolor": "white",
           "zerolinewidth": 2
          }
         }
        },
        "title": {
         "text": "Reddit Alluvial Plots for florida_comments"
        },
        "yaxis": {
         "type": "log"
        }
       }
      },
      "text/html": [
       "<div>                            <div id=\"e1d1ff58-a401-457d-a1b9-45ef5bc41748\" class=\"plotly-graph-div\" style=\"height:525px; width:100%;\"></div>            <script type=\"text/javascript\">                require([\"plotly\"], function(Plotly) {                    window.PLOTLYENV=window.PLOTLYENV || {};                                    if (document.getElementById(\"e1d1ff58-a401-457d-a1b9-45ef5bc41748\")) {                    Plotly.newPlot(                        \"e1d1ff58-a401-457d-a1b9-45ef5bc41748\",                        [{\"link\":{\"source\":[0,0,0,0,1,1,1,1,2,2,2,2,3,3,3,3,4,4,4,4,5,5,5,5,6,6,6,6,7,7,7,7,8,8,8,8,9,9,9,9,10,10,10,10,11,11,11,11],\"target\":[4,5,6,7,4,5,6,7,4,5,6,7,4,5,6,7,8,9,10,11,8,9,10,11,8,9,10,11,8,9,10,11,12,13,14,15,12,13,14,15,12,13,14,15,12,13,14,15],\"value\":[81241,1664,1077,511,428,103,106,69,200,71,121,87,52,15,33,109,79706,1298,672,245,1512,188,114,39,861,184,193,99,380,65,127,204,77155,2703,1793,808,1079,241,259,156,471,128,252,255,149,36,83,319]},\"node\":{\"color\":\"blue\",\"label\":[\"2019-01-01 - Bucket 0\",\"2019-01-01 - Bucket 1\",\"2019-01-01 - Bucket 2\",\"2019-01-01 - Bucket 3\",\"2020-01-01 - Bucket 0\",\"2020-01-01 - Bucket 1\",\"2020-01-01 - Bucket 2\",\"2020-01-01 - Bucket 3\",\"2021-01-01 - Bucket 0\",\"2021-01-01 - Bucket 1\",\"2021-01-01 - Bucket 2\",\"2021-01-01 - Bucket 3\",\"2022-01-01 - Bucket 0\",\"2022-01-01 - Bucket 1\",\"2022-01-01 - Bucket 2\",\"2022-01-01 - Bucket 3\"],\"line\":{\"color\":\"black\",\"width\":1.5},\"pad\":15,\"thickness\":20},\"type\":\"sankey\"}],                        {\"template\":{\"data\":{\"histogram2dcontour\":[{\"type\":\"histogram2dcontour\",\"colorbar\":{\"outlinewidth\":0,\"ticks\":\"\"},\"colorscale\":[[0.0,\"#0d0887\"],[0.1111111111111111,\"#46039f\"],[0.2222222222222222,\"#7201a8\"],[0.3333333333333333,\"#9c179e\"],[0.4444444444444444,\"#bd3786\"],[0.5555555555555556,\"#d8576b\"],[0.6666666666666666,\"#ed7953\"],[0.7777777777777778,\"#fb9f3a\"],[0.8888888888888888,\"#fdca26\"],[1.0,\"#f0f921\"]]}],\"choropleth\":[{\"type\":\"choropleth\",\"colorbar\":{\"outlinewidth\":0,\"ticks\":\"\"}}],\"histogram2d\":[{\"type\":\"histogram2d\",\"colorbar\":{\"outlinewidth\":0,\"ticks\":\"\"},\"colorscale\":[[0.0,\"#0d0887\"],[0.1111111111111111,\"#46039f\"],[0.2222222222222222,\"#7201a8\"],[0.3333333333333333,\"#9c179e\"],[0.4444444444444444,\"#bd3786\"],[0.5555555555555556,\"#d8576b\"],[0.6666666666666666,\"#ed7953\"],[0.7777777777777778,\"#fb9f3a\"],[0.8888888888888888,\"#fdca26\"],[1.0,\"#f0f921\"]]}],\"heatmap\":[{\"type\":\"heatmap\",\"colorbar\":{\"outlinewidth\":0,\"ticks\":\"\"},\"colorscale\":[[0.0,\"#0d0887\"],[0.1111111111111111,\"#46039f\"],[0.2222222222222222,\"#7201a8\"],[0.3333333333333333,\"#9c179e\"],[0.4444444444444444,\"#bd3786\"],[0.5555555555555556,\"#d8576b\"],[0.6666666666666666,\"#ed7953\"],[0.7777777777777778,\"#fb9f3a\"],[0.8888888888888888,\"#fdca26\"],[1.0,\"#f0f921\"]]}],\"heatmapgl\":[{\"type\":\"heatmapgl\",\"colorbar\":{\"outlinewidth\":0,\"ticks\":\"\"},\"colorscale\":[[0.0,\"#0d0887\"],[0.1111111111111111,\"#46039f\"],[0.2222222222222222,\"#7201a8\"],[0.3333333333333333,\"#9c179e\"],[0.4444444444444444,\"#bd3786\"],[0.5555555555555556,\"#d8576b\"],[0.6666666666666666,\"#ed7953\"],[0.7777777777777778,\"#fb9f3a\"],[0.8888888888888888,\"#fdca26\"],[1.0,\"#f0f921\"]]}],\"contourcarpet\":[{\"type\":\"contourcarpet\",\"colorbar\":{\"outlinewidth\":0,\"ticks\":\"\"}}],\"contour\":[{\"type\":\"contour\",\"colorbar\":{\"outlinewidth\":0,\"ticks\":\"\"},\"colorscale\":[[0.0,\"#0d0887\"],[0.1111111111111111,\"#46039f\"],[0.2222222222222222,\"#7201a8\"],[0.3333333333333333,\"#9c179e\"],[0.4444444444444444,\"#bd3786\"],[0.5555555555555556,\"#d8576b\"],[0.6666666666666666,\"#ed7953\"],[0.7777777777777778,\"#fb9f3a\"],[0.8888888888888888,\"#fdca26\"],[1.0,\"#f0f921\"]]}],\"surface\":[{\"type\":\"surface\",\"colorbar\":{\"outlinewidth\":0,\"ticks\":\"\"},\"colorscale\":[[0.0,\"#0d0887\"],[0.1111111111111111,\"#46039f\"],[0.2222222222222222,\"#7201a8\"],[0.3333333333333333,\"#9c179e\"],[0.4444444444444444,\"#bd3786\"],[0.5555555555555556,\"#d8576b\"],[0.6666666666666666,\"#ed7953\"],[0.7777777777777778,\"#fb9f3a\"],[0.8888888888888888,\"#fdca26\"],[1.0,\"#f0f921\"]]}],\"mesh3d\":[{\"type\":\"mesh3d\",\"colorbar\":{\"outlinewidth\":0,\"ticks\":\"\"}}],\"scatter\":[{\"fillpattern\":{\"fillmode\":\"overlay\",\"size\":10,\"solidity\":0.2},\"type\":\"scatter\"}],\"parcoords\":[{\"type\":\"parcoords\",\"line\":{\"colorbar\":{\"outlinewidth\":0,\"ticks\":\"\"}}}],\"scatterpolargl\":[{\"type\":\"scatterpolargl\",\"marker\":{\"colorbar\":{\"outlinewidth\":0,\"ticks\":\"\"}}}],\"bar\":[{\"error_x\":{\"color\":\"#2a3f5f\"},\"error_y\":{\"color\":\"#2a3f5f\"},\"marker\":{\"line\":{\"color\":\"#E5ECF6\",\"width\":0.5},\"pattern\":{\"fillmode\":\"overlay\",\"size\":10,\"solidity\":0.2}},\"type\":\"bar\"}],\"scattergeo\":[{\"type\":\"scattergeo\",\"marker\":{\"colorbar\":{\"outlinewidth\":0,\"ticks\":\"\"}}}],\"scatterpolar\":[{\"type\":\"scatterpolar\",\"marker\":{\"colorbar\":{\"outlinewidth\":0,\"ticks\":\"\"}}}],\"histogram\":[{\"marker\":{\"pattern\":{\"fillmode\":\"overlay\",\"size\":10,\"solidity\":0.2}},\"type\":\"histogram\"}],\"scattergl\":[{\"type\":\"scattergl\",\"marker\":{\"colorbar\":{\"outlinewidth\":0,\"ticks\":\"\"}}}],\"scatter3d\":[{\"type\":\"scatter3d\",\"line\":{\"colorbar\":{\"outlinewidth\":0,\"ticks\":\"\"}},\"marker\":{\"colorbar\":{\"outlinewidth\":0,\"ticks\":\"\"}}}],\"scattermapbox\":[{\"type\":\"scattermapbox\",\"marker\":{\"colorbar\":{\"outlinewidth\":0,\"ticks\":\"\"}}}],\"scatterternary\":[{\"type\":\"scatterternary\",\"marker\":{\"colorbar\":{\"outlinewidth\":0,\"ticks\":\"\"}}}],\"scattercarpet\":[{\"type\":\"scattercarpet\",\"marker\":{\"colorbar\":{\"outlinewidth\":0,\"ticks\":\"\"}}}],\"carpet\":[{\"aaxis\":{\"endlinecolor\":\"#2a3f5f\",\"gridcolor\":\"white\",\"linecolor\":\"white\",\"minorgridcolor\":\"white\",\"startlinecolor\":\"#2a3f5f\"},\"baxis\":{\"endlinecolor\":\"#2a3f5f\",\"gridcolor\":\"white\",\"linecolor\":\"white\",\"minorgridcolor\":\"white\",\"startlinecolor\":\"#2a3f5f\"},\"type\":\"carpet\"}],\"table\":[{\"cells\":{\"fill\":{\"color\":\"#EBF0F8\"},\"line\":{\"color\":\"white\"}},\"header\":{\"fill\":{\"color\":\"#C8D4E3\"},\"line\":{\"color\":\"white\"}},\"type\":\"table\"}],\"barpolar\":[{\"marker\":{\"line\":{\"color\":\"#E5ECF6\",\"width\":0.5},\"pattern\":{\"fillmode\":\"overlay\",\"size\":10,\"solidity\":0.2}},\"type\":\"barpolar\"}],\"pie\":[{\"automargin\":true,\"type\":\"pie\"}]},\"layout\":{\"autotypenumbers\":\"strict\",\"colorway\":[\"#636efa\",\"#EF553B\",\"#00cc96\",\"#ab63fa\",\"#FFA15A\",\"#19d3f3\",\"#FF6692\",\"#B6E880\",\"#FF97FF\",\"#FECB52\"],\"font\":{\"color\":\"#2a3f5f\"},\"hovermode\":\"closest\",\"hoverlabel\":{\"align\":\"left\"},\"paper_bgcolor\":\"white\",\"plot_bgcolor\":\"#E5ECF6\",\"polar\":{\"bgcolor\":\"#E5ECF6\",\"angularaxis\":{\"gridcolor\":\"white\",\"linecolor\":\"white\",\"ticks\":\"\"},\"radialaxis\":{\"gridcolor\":\"white\",\"linecolor\":\"white\",\"ticks\":\"\"}},\"ternary\":{\"bgcolor\":\"#E5ECF6\",\"aaxis\":{\"gridcolor\":\"white\",\"linecolor\":\"white\",\"ticks\":\"\"},\"baxis\":{\"gridcolor\":\"white\",\"linecolor\":\"white\",\"ticks\":\"\"},\"caxis\":{\"gridcolor\":\"white\",\"linecolor\":\"white\",\"ticks\":\"\"}},\"coloraxis\":{\"colorbar\":{\"outlinewidth\":0,\"ticks\":\"\"}},\"colorscale\":{\"sequential\":[[0.0,\"#0d0887\"],[0.1111111111111111,\"#46039f\"],[0.2222222222222222,\"#7201a8\"],[0.3333333333333333,\"#9c179e\"],[0.4444444444444444,\"#bd3786\"],[0.5555555555555556,\"#d8576b\"],[0.6666666666666666,\"#ed7953\"],[0.7777777777777778,\"#fb9f3a\"],[0.8888888888888888,\"#fdca26\"],[1.0,\"#f0f921\"]],\"sequentialminus\":[[0.0,\"#0d0887\"],[0.1111111111111111,\"#46039f\"],[0.2222222222222222,\"#7201a8\"],[0.3333333333333333,\"#9c179e\"],[0.4444444444444444,\"#bd3786\"],[0.5555555555555556,\"#d8576b\"],[0.6666666666666666,\"#ed7953\"],[0.7777777777777778,\"#fb9f3a\"],[0.8888888888888888,\"#fdca26\"],[1.0,\"#f0f921\"]],\"diverging\":[[0,\"#8e0152\"],[0.1,\"#c51b7d\"],[0.2,\"#de77ae\"],[0.3,\"#f1b6da\"],[0.4,\"#fde0ef\"],[0.5,\"#f7f7f7\"],[0.6,\"#e6f5d0\"],[0.7,\"#b8e186\"],[0.8,\"#7fbc41\"],[0.9,\"#4d9221\"],[1,\"#276419\"]]},\"xaxis\":{\"gridcolor\":\"white\",\"linecolor\":\"white\",\"ticks\":\"\",\"title\":{\"standoff\":15},\"zerolinecolor\":\"white\",\"automargin\":true,\"zerolinewidth\":2},\"yaxis\":{\"gridcolor\":\"white\",\"linecolor\":\"white\",\"ticks\":\"\",\"title\":{\"standoff\":15},\"zerolinecolor\":\"white\",\"automargin\":true,\"zerolinewidth\":2},\"scene\":{\"xaxis\":{\"backgroundcolor\":\"#E5ECF6\",\"gridcolor\":\"white\",\"linecolor\":\"white\",\"showbackground\":true,\"ticks\":\"\",\"zerolinecolor\":\"white\",\"gridwidth\":2},\"yaxis\":{\"backgroundcolor\":\"#E5ECF6\",\"gridcolor\":\"white\",\"linecolor\":\"white\",\"showbackground\":true,\"ticks\":\"\",\"zerolinecolor\":\"white\",\"gridwidth\":2},\"zaxis\":{\"backgroundcolor\":\"#E5ECF6\",\"gridcolor\":\"white\",\"linecolor\":\"white\",\"showbackground\":true,\"ticks\":\"\",\"zerolinecolor\":\"white\",\"gridwidth\":2}},\"shapedefaults\":{\"line\":{\"color\":\"#2a3f5f\"}},\"annotationdefaults\":{\"arrowcolor\":\"#2a3f5f\",\"arrowhead\":0,\"arrowwidth\":1},\"geo\":{\"bgcolor\":\"white\",\"landcolor\":\"#E5ECF6\",\"subunitcolor\":\"white\",\"showland\":true,\"showlakes\":true,\"lakecolor\":\"white\"},\"title\":{\"x\":0.05},\"mapbox\":{\"style\":\"light\"}}},\"title\":{\"text\":\"Reddit Alluvial Plots for florida_comments\"},\"font\":{\"size\":10},\"yaxis\":{\"type\":\"log\"}},                        {\"responsive\": true}                    ).then(function(){\n",
       "                            \n",
       "var gd = document.getElementById('e1d1ff58-a401-457d-a1b9-45ef5bc41748');\n",
       "var x = new MutationObserver(function (mutations, observer) {{\n",
       "        var display = window.getComputedStyle(gd).display;\n",
       "        if (!display || display === 'none') {{\n",
       "            console.log([gd, 'removed!']);\n",
       "            Plotly.purge(gd);\n",
       "            observer.disconnect();\n",
       "        }}\n",
       "}});\n",
       "\n",
       "// Listen for the removal of the full notebook cells\n",
       "var notebookContainer = gd.closest('#notebook-container');\n",
       "if (notebookContainer) {{\n",
       "    x.observe(notebookContainer, {childList: true});\n",
       "}}\n",
       "\n",
       "// Listen for the clearing of the current output cell\n",
       "var outputEl = gd.closest('.output');\n",
       "if (outputEl) {{\n",
       "    x.observe(outputEl, {childList: true});\n",
       "}}\n",
       "\n",
       "                        })                };                });            </script>        </div>"
      ]
     },
     "metadata": {},
     "output_type": "display_data"
    }
   ],
   "source": [
    "import plotly.graph_objects as go\n",
    "\n",
    "fig = go.Figure(data=[go.Sankey(\n",
    "    node=dict(\n",
    "        pad=15,\n",
    "        thickness=20,\n",
    "        line=dict(color=\"black\", width=1.5),\n",
    "        label=bucket_labels,\n",
    "        color=\"blue\"\n",
    "    ),\n",
    "    link=dict(\n",
    "        source=source_list,\n",
    "        target=target_list,\n",
    "        value=tally_src_dest\n",
    "    )\n",
    ")])\n",
    "\n",
    "fig.update_layout(title_text=f\"Reddit Alluvial Plots for {os.path.basename(file_path[:-5])}\", font_size=10)\n",
    "\n",
    "# Set the x and y axes to have a logarithmic scale\n",
    "fig.update_layout(yaxis_type = \"log\")\n",
    "\n",
    "fig.show()\n",
    "\n",
    "fig.write_html(f\"figures/alluvial_{os.path.basename(file_path[:-5])}.html\")\n"
   ]
  }
 ],
 "metadata": {
  "kernelspec": {
   "display_name": "Python 3 (ipykernel)",
   "language": "python",
   "name": "python3"
  },
  "language_info": {
   "codemirror_mode": {
    "name": "ipython",
    "version": 3
   },
   "file_extension": ".py",
   "mimetype": "text/x-python",
   "name": "python",
   "nbconvert_exporter": "python",
   "pygments_lexer": "ipython3",
   "version": "3.11.0"
  }
 },
 "nbformat": 4,
 "nbformat_minor": 5
}
